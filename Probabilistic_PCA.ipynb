{
  "nbformat": 4,
  "nbformat_minor": 0,
  "metadata": {
    "colab": {
      "name": "Probabilistic PCA.ipynb",
      "provenance": [],
      "collapsed_sections": [],
      "include_colab_link": true
    },
    "kernelspec": {
      "name": "python3",
      "display_name": "Python 3"
    },
    "widgets": {
      "application/vnd.jupyter.widget-state+json": {
        "bcaa9d292b0d43699afe82f382dfb75d": {
          "model_module": "@jupyter-widgets/controls",
          "model_name": "ButtonModel",
          "state": {
            "_view_name": "ButtonView",
            "style": "IPY_MODEL_d6882a50de414cd58ab73b4d8dd4a52f",
            "_dom_classes": [],
            "description": "Next Step",
            "_model_name": "ButtonModel",
            "button_style": "",
            "_view_module": "@jupyter-widgets/controls",
            "_model_module_version": "1.5.0",
            "tooltip": "",
            "_view_count": null,
            "disabled": false,
            "_view_module_version": "1.5.0",
            "layout": "IPY_MODEL_64507a1d2a9147d483abcb00e36bd15d",
            "_model_module": "@jupyter-widgets/controls",
            "icon": ""
          }
        },
        "d6882a50de414cd58ab73b4d8dd4a52f": {
          "model_module": "@jupyter-widgets/controls",
          "model_name": "ButtonStyleModel",
          "state": {
            "_view_name": "StyleView",
            "_model_name": "ButtonStyleModel",
            "_view_module": "@jupyter-widgets/base",
            "_model_module_version": "1.5.0",
            "_view_count": null,
            "button_color": null,
            "font_weight": "",
            "_view_module_version": "1.2.0",
            "_model_module": "@jupyter-widgets/controls"
          }
        },
        "64507a1d2a9147d483abcb00e36bd15d": {
          "model_module": "@jupyter-widgets/base",
          "model_name": "LayoutModel",
          "state": {
            "_view_name": "LayoutView",
            "grid_template_rows": null,
            "right": null,
            "justify_content": null,
            "_view_module": "@jupyter-widgets/base",
            "overflow": null,
            "_model_module_version": "1.2.0",
            "_view_count": null,
            "flex_flow": null,
            "width": null,
            "min_width": null,
            "border": null,
            "align_items": null,
            "bottom": null,
            "_model_module": "@jupyter-widgets/base",
            "top": null,
            "grid_column": null,
            "overflow_y": null,
            "overflow_x": null,
            "grid_auto_flow": null,
            "grid_area": null,
            "grid_template_columns": null,
            "flex": null,
            "_model_name": "LayoutModel",
            "justify_items": null,
            "grid_row": null,
            "max_height": null,
            "align_content": null,
            "visibility": null,
            "align_self": null,
            "height": null,
            "min_height": null,
            "padding": null,
            "grid_auto_rows": null,
            "grid_gap": null,
            "max_width": null,
            "order": null,
            "_view_module_version": "1.2.0",
            "grid_template_areas": null,
            "object_position": null,
            "object_fit": null,
            "grid_auto_columns": null,
            "margin": null,
            "display": null,
            "left": null
          }
        }
      }
    }
  },
  "cells": [
    {
      "cell_type": "markdown",
      "metadata": {
        "id": "view-in-github",
        "colab_type": "text"
      },
      "source": [
        "<a href=\"https://colab.research.google.com/github/elsa9421/Interactive-IPython-Demos/blob/main/Probabilistic_PCA.ipynb\" target=\"_parent\"><img src=\"https://colab.research.google.com/assets/colab-badge.svg\" alt=\"Open In Colab\"/></a>"
      ]
    },
    {
      "cell_type": "markdown",
      "metadata": {
        "id": "J74apa8eVF_H"
      },
      "source": [
        "This notebook demostrates step by step EM algorithm for probabilistic PCA.\n",
        "\n",
        "\n",
        "\n",
        "<br> **Reference:**\n",
        "<br>Chapter 12: Latent Linear Models\n",
        "<br>Murphy, Kevin P.. Machine Learning : A Probabilistic Perspective, MIT Press, 2012. ProQuest Ebook Central, http://ebookcentral.proquest.com/lib/umichigan/detail.action?docID=3339490.\n",
        "<br>Created from umichigan on 2020-08-19 13:27:29."
      ]
    },
    {
      "cell_type": "markdown",
      "metadata": {
        "id": "a6fosOsoU_fz"
      },
      "source": [
        "## Import "
      ]
    },
    {
      "cell_type": "code",
      "metadata": {
        "id": "saPRIl7Q_eTe"
      },
      "source": [
        "import numpy as np\n",
        "import matplotlib.pyplot as plt\n",
        "\n",
        "from math import pi,cos,sin,sqrt, log\n",
        "from scipy.stats.distributions import chi2 \n",
        "import sys\n",
        "import ipywidgets as widgets\n",
        "from IPython import display\n",
        "\n",
        "\n",
        "\n",
        "## Data points\n",
        "X=np.array([[-2.3,1],[-2,2.2],[-1.6,2],[-1,1.3],[-.8,0.6],\n",
        "            [-.6,0.2],[-.2,-2],[-.1,0.7],[0.1,-1.4],[0.5,-.8],[0.2,-.3],[0.1,0.2],\n",
        "            [0.2,0.5],[0.3,0.1],[0.7,1.35],[1.7,1.9],[1,-2],[1.8,0.3],[1.4,0.3],[1.1,-.6],[1.5,-1.5],[1.5,-1.4]])\n",
        "\n",
        "\n",
        "N=X.shape[0]\n",
        "\n",
        "\n",
        "def plot_ellipse(m,S):\n",
        "  '''\n",
        "  Plot an Elliptical contour of a bivariate Gaussian density\n",
        "\n",
        "  Input:\n",
        "  -m:mean\n",
        "  -S:covariance matrix\n",
        "\n",
        "  Output:\n",
        "  -z : ellipse boundary points for plotting using\n",
        "      >> plot(z[0,:],z[1,:])\n",
        "  '''\n",
        "\n",
        "  d=len(m)\n",
        "  if d!=2:\n",
        "    sys.exit(\"Plot ellipse assumes 2D data\")\n",
        "  \n",
        "  #beta= theoretical mass enclosed\n",
        "  beta=.9\n",
        "  r=sqrt(chi2.ppf(beta, df=2))\n",
        "\n",
        "  #Plot circle\n",
        "  N=500\n",
        "  t=np.linspace(0,2*pi,N+1)[:-1]\n",
        "  u=r*np.array([np.cos(t),np.sin(t)])\n",
        "  eigVal, eigVec = np.linalg.eig(S)\n",
        "\n",
        "  z=np.dot(np.dot(eigVec,np.sqrt(np.diag(eigVal))),u) + m.reshape(-1,1)\n",
        "\n",
        "  return z"
      ],
      "execution_count": null,
      "outputs": []
    },
    {
      "cell_type": "markdown",
      "metadata": {
        "id": "osPntWLmYREX"
      },
      "source": [
        "### EM Algorithm for PCA\n",
        "\n",
        "EM for PCA relies on the probabilistic formulation of PCA. \n",
        "<br> Let $ \\tilde{X} = X^T$ store the original data along its columns. Where, $X$ is a $N x D$ matrix, with $N$ sample points of $D$ dimensions each.\n",
        "<br>Similarly, let $Z$ be a $L × N$ matrix storing the posterior means (low-dimensional representations) along its columns. Where, $L < D$\n",
        "\n",
        "* E step :\n",
        "$ \\tilde{Z} = (W^T W)^{-1} W^T \\tilde{X} $\n",
        "<br>Notice that this is just an orthogonal projection of the data. \n",
        "\n",
        "* M step :\n",
        "$ W=\\tilde{X} \\tilde{Z}^T (\\tilde{Z}\\tilde{Z}^T)^{-1} $\n",
        "\n",
        "\n",
        "<br> Tipping and Bishop 1999 showed that the only stable ﬁxed point of the EM algorithm is the globally optimal solution. That is, the EM algorithm converges to a solution where $W$ spans the same linear subspace as that deﬁned by the ﬁrst $L$ eigenvectors.\n",
        "\n",
        "\n"
      ]
    },
    {
      "cell_type": "markdown",
      "metadata": {
        "id": "dQGh3NT4gWQn"
      },
      "source": [
        "### Physical Analogy\n",
        "\n",
        "This algorithm has a simple physical analogy in the case $D = 2$ and $L = 1$\n",
        "(Roweis 1997). \n",
        "<br> Consider some points in $\\mathbb{R}^2$ attached by springs to a rigid rod, whose orientation is deﬁned by a vector $w$ . <br> Let $z_i$ be the location where the $i^{th}$ spring attaches to the rod. \n",
        "* In the E step, we hold the rod ﬁxed, and let the attachment points slide around so as to minimize the spring energy (which is proportional to the sum of squared residuals).\n",
        "* In the M step, points ﬁxed and let the rod rotate so as to minimize the spring energy. \n",
        "\n",
        "### Illustration of EM for PCA when D = 2 and L = 1 .\n",
        "\n",
        "* Green stars are the original data points\n",
        "* black circles are their reconstructions.\n",
        "* The weight vector $w$ is represented by blue line. \n",
        "* The red Elliptical contour is obtained with the Mean of the data reconstructions (black circles) and covariance of the Data Matrix $X$ \n",
        "> (a) We start with a random initial guess of w .\n",
        "The E step is represented by the orthogonal projections. \n",
        "<br> (b) We update the rod w in the M step, keeping the projections onto the rod (black circles) ﬁxed. \n",
        "<br> (c) Another E step. The black circles can ’slide’ along the rod, but the rod stays ﬁxed. \n",
        "<br> (d) Another M step. Based on Figure 12.12 of (Bishop 2006b).\n",
        "\n",
        "Repeat E and M steps until convergence\n"
      ]
    },
    {
      "cell_type": "code",
      "metadata": {
        "id": "6kY7rDgkRlFH",
        "colab": {
          "base_uri": "https://localhost:8080/",
          "height": 476,
          "referenced_widgets": [
            "bcaa9d292b0d43699afe82f382dfb75d",
            "d6882a50de414cd58ab73b4d8dd4a52f",
            "64507a1d2a9147d483abcb00e36bd15d"
          ]
        },
        "outputId": "f58d27d9-9e85-46ba-a669-557638395717"
      },
      "source": [
        "E_iter=-1\n",
        "M_iter=0\n",
        "\n",
        "#-------------------------------------------\n",
        "# Initial guess for w\n",
        "\n",
        "# W of shape (D,L); D=2,L=1\n",
        "D=2\n",
        "L=1\n",
        "np.random.seed(5)\n",
        "W=np.random.normal((D,L))\n",
        "W=W/np.linalg.norm(W)\n",
        "   # Make sure W is Orthonormal\n",
        "#print(\"W.TW\",np.dot(W,W.T)) # aproxx =1\n",
        "#------------------------------------------\n",
        "def plot_step(X,W,Z,step):\n",
        "  '''\n",
        "  Plot graph for E-step\n",
        "\n",
        "  Input:\n",
        "  X: of shape(N,D), data points\n",
        "  W: of shape (D,L), obtained from M-step\n",
        "  Z: of shape (L,N), obtained E-step (Projection points)\n",
        "\n",
        "  '''\n",
        "  global E_iter\n",
        "\n",
        "  # Plot line for vector w\n",
        "  N,D=X.shape\n",
        "\n",
        "  xvec=np.linspace(-3.5,3.5)\n",
        "  slope=W[1]/W[0]\n",
        "  # print(\"Slope of line -vector w (blue line)=\",slope)\n",
        "\n",
        " \n",
        "\n",
        "  Proj_Z_2D=np.dot(W,Z).T #(N,D)\n",
        "  Mu=np.mean(Proj_Z_2D,axis=0)\n",
        "\n",
        "  plt.plot(xvec,slope*xvec,'b',alpha=0.8,lw=2, label=\"1-D Subspace\")\n",
        "  \n",
        "  Cov=np.cov(X.T)\n",
        "  e=plot_ellipse(Mu,Cov)\n",
        "  e=e.T\n",
        "  \n",
        "\n",
        "\n",
        "  \n",
        "  if E_iter!=0:\n",
        "    plt.plot(e[:,0],e[:,1],color='r',lw=2,label=\"Ellipse ($Mean_{Projection points}$ , Cov(X)\")\n",
        "    plt.scatter(Mu[0],Mu[1],marker='x',color='red',s=120,lw=3, label='$Mean_{Projected points}$')\n",
        "    plt.scatter(Proj_Z_2D[:,0], Proj_Z_2D[:,1],color='k',s=100, facecolors='none', edgecolors='k',label='1-D Projected points')\n",
        "\n",
        "    for i in range(len(X)):\n",
        "      m2=(X[i][1]-Proj_Z_2D[i][1])/(X[i][0]-Proj_Z_2D[i][0])\n",
        "      # print(\"Slope of projection lines=\",m2)\n",
        "      c2=-m2*Proj_Z_2D[i][0]+Proj_Z_2D[i][1]\n",
        "      x_end=Proj_Z_2D[i][0]   \n",
        "      x_start=X[i][0]\n",
        "      if x_start<=x_end:\n",
        "        x_vec2=np.linspace(x_start,x_end)\n",
        "      else:\n",
        "        x_vec2=np.linspace(x_start,x_end)\n",
        "      error_line=m2* x_vec2 +c2 \n",
        "      plt.plot(x_vec2, error_line, \"k-\",color='k',linewidth=1)\n",
        "\n",
        "    plt.title(\"{}-step {}\".format(step,E_iter))\n",
        "  if E_iter==0:\n",
        "    plt.title(\"Initial Plot before E step\")\n",
        "  plt.plot(X[:,0],X[:,1],'g*', label='2D data points' )\n",
        "  plt.xlim(-3.5,3.5)\n",
        "  plt.ylim(-3.5,3.5)\n",
        "  plt.gca().set_aspect('equal', adjustable='box')\n",
        "  plt.gca().legend(loc='center left', bbox_to_anchor=(1, 0.5))\n",
        "  \n",
        "\n",
        "\n",
        "def EM_step(X,step='E'):\n",
        "  '''\n",
        "  EM for Probabilistic PCA\n",
        "  \n",
        "  '''\n",
        "  # E-Step\n",
        "  global E_iter,M_iter,W,Z\n",
        "  if step=='E':\n",
        "    E_iter+=1\n",
        "    Z=np.dot(np.linalg.inv(np.dot(W.T,W).reshape(L,L)),np.dot(W.T,X.T).reshape(L,N))  #(1,N)\n",
        "    next='M'\n",
        "\n",
        "  elif step=='M':\n",
        "      #M- Step\n",
        "    M_iter+=1\n",
        "    W=np.dot(np.dot(X.T,Z.T),np.linalg.inv(np.dot(Z,Z.T)))\n",
        "    next='E'\n",
        "\n",
        "  plt.figure(figsize=(7,7))\n",
        "  fig=plt.gcf()\n",
        "  \n",
        "  fig.set_facecolor('white')\n",
        "  plot_step(X,W.reshape(D,L),Z,step=step)\n",
        "\n",
        "  return next\n",
        "\n",
        "EM_step(X)\n",
        "\n",
        "button = widgets.Button(description=\"Next Step\")\n",
        "output = widgets.Output()\n",
        "next='E'\n",
        "def on_button_clicked(b):\n",
        "  global next\n",
        "  display.clear_output(wait=True)\n",
        "  next=EM_step(X,next)\n",
        "  display.display(button)\n",
        "\n",
        "button.on_click(on_button_clicked)\n",
        "display.display(button)\n"
      ],
      "execution_count": null,
      "outputs": [
        {
          "output_type": "display_data",
          "data": {
            "application/vnd.jupyter.widget-view+json": {
              "model_id": "bcaa9d292b0d43699afe82f382dfb75d",
              "version_minor": 0,
              "version_major": 2
            },
            "text/plain": [
              "Button(description='Next Step', style=ButtonStyle())"
            ]
          },
          "metadata": {
            "tags": []
          }
        },
        {
          "output_type": "display_data",
          "data": {
            "image/png": "[encoded data removed]",
            "text/plain": [
              "<Figure size 504x504 with 1 Axes>"
            ]
          },
          "metadata": {
            "tags": []
          }
        }
      ]
    }
  ]
}
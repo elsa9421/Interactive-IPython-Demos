{
  "nbformat": 4,
  "nbformat_minor": 0,
  "metadata": {
    "colab": {
      "name": "CNN_CIFAR10.ipynb",
      "provenance": [],
      "collapsed_sections": [],
      "include_colab_link": true
    },
    "kernelspec": {
      "name": "python3",
      "display_name": "Python 3"
    },
    "accelerator": "GPU",
    "widgets": {
      "application/vnd.jupyter.widget-state+json": {
        "995987dd78ae4773b76270c70893cbb2": {
          "model_module": "@jupyter-widgets/controls",
          "model_name": "HBoxModel",
          "state": {
            "_view_name": "HBoxView",
            "_dom_classes": [],
            "_model_name": "HBoxModel",
            "_view_module": "@jupyter-widgets/controls",
            "_model_module_version": "1.5.0",
            "_view_count": null,
            "_view_module_version": "1.5.0",
            "box_style": "",
            "layout": "IPY_MODEL_7df134014c184743a055b31dbaf1024a",
            "_model_module": "@jupyter-widgets/controls",
            "children": [
              "IPY_MODEL_e2dea7ac127342df966ff35364f8aff2",
              "IPY_MODEL_9288ac118aa34e929131a78ffc99cd0b"
            ]
          }
        },
        "7df134014c184743a055b31dbaf1024a": {
          "model_module": "@jupyter-widgets/base",
          "model_name": "LayoutModel",
          "state": {
            "_view_name": "LayoutView",
            "grid_template_rows": null,
            "right": null,
            "justify_content": null,
            "_view_module": "@jupyter-widgets/base",
            "overflow": null,
            "_model_module_version": "1.2.0",
            "_view_count": null,
            "flex_flow": null,
            "width": null,
            "min_width": null,
            "border": null,
            "align_items": null,
            "bottom": null,
            "_model_module": "@jupyter-widgets/base",
            "top": null,
            "grid_column": null,
            "overflow_y": null,
            "overflow_x": null,
            "grid_auto_flow": null,
            "grid_area": null,
            "grid_template_columns": null,
            "flex": null,
            "_model_name": "LayoutModel",
            "justify_items": null,
            "grid_row": null,
            "max_height": null,
            "align_content": null,
            "visibility": null,
            "align_self": null,
            "height": null,
            "min_height": null,
            "padding": null,
            "grid_auto_rows": null,
            "grid_gap": null,
            "max_width": null,
            "order": null,
            "_view_module_version": "1.2.0",
            "grid_template_areas": null,
            "object_position": null,
            "object_fit": null,
            "grid_auto_columns": null,
            "margin": null,
            "display": null,
            "left": null
          }
        },
        "e2dea7ac127342df966ff35364f8aff2": {
          "model_module": "@jupyter-widgets/controls",
          "model_name": "FloatProgressModel",
          "state": {
            "_view_name": "ProgressView",
            "style": "IPY_MODEL_9b39820bb108438eaafc73e4935700b0",
            "_dom_classes": [],
            "description": "",
            "_model_name": "FloatProgressModel",
            "bar_style": "success",
            "max": 1,
            "_view_module": "@jupyter-widgets/controls",
            "_model_module_version": "1.5.0",
            "value": 1,
            "_view_count": null,
            "_view_module_version": "1.5.0",
            "orientation": "horizontal",
            "min": 0,
            "description_tooltip": null,
            "_model_module": "@jupyter-widgets/controls",
            "layout": "IPY_MODEL_c83e7bd880f7457785770b1e2c94af28"
          }
        },
        "9288ac118aa34e929131a78ffc99cd0b": {
          "model_module": "@jupyter-widgets/controls",
          "model_name": "HTMLModel",
          "state": {
            "_view_name": "HTMLView",
            "style": "IPY_MODEL_9581e3a4cf5f4af5b2a31e502386fd08",
            "_dom_classes": [],
            "description": "",
            "_model_name": "HTMLModel",
            "placeholder": "​",
            "_view_module": "@jupyter-widgets/controls",
            "_model_module_version": "1.5.0",
            "value": " 170500096/? [00:06&lt;00:00, 26987662.74it/s]",
            "_view_count": null,
            "_view_module_version": "1.5.0",
            "description_tooltip": null,
            "_model_module": "@jupyter-widgets/controls",
            "layout": "IPY_MODEL_16325192fd7547d39354ec69a19637c0"
          }
        },
        "9b39820bb108438eaafc73e4935700b0": {
          "model_module": "@jupyter-widgets/controls",
          "model_name": "ProgressStyleModel",
          "state": {
            "_view_name": "StyleView",
            "_model_name": "ProgressStyleModel",
            "description_width": "initial",
            "_view_module": "@jupyter-widgets/base",
            "_model_module_version": "1.5.0",
            "_view_count": null,
            "_view_module_version": "1.2.0",
            "bar_color": null,
            "_model_module": "@jupyter-widgets/controls"
          }
        },
        "c83e7bd880f7457785770b1e2c94af28": {
          "model_module": "@jupyter-widgets/base",
          "model_name": "LayoutModel",
          "state": {
            "_view_name": "LayoutView",
            "grid_template_rows": null,
            "right": null,
            "justify_content": null,
            "_view_module": "@jupyter-widgets/base",
            "overflow": null,
            "_model_module_version": "1.2.0",
            "_view_count": null,
            "flex_flow": null,
            "width": null,
            "min_width": null,
            "border": null,
            "align_items": null,
            "bottom": null,
            "_model_module": "@jupyter-widgets/base",
            "top": null,
            "grid_column": null,
            "overflow_y": null,
            "overflow_x": null,
            "grid_auto_flow": null,
            "grid_area": null,
            "grid_template_columns": null,
            "flex": null,
            "_model_name": "LayoutModel",
            "justify_items": null,
            "grid_row": null,
            "max_height": null,
            "align_content": null,
            "visibility": null,
            "align_self": null,
            "height": null,
            "min_height": null,
            "padding": null,
            "grid_auto_rows": null,
            "grid_gap": null,
            "max_width": null,
            "order": null,
            "_view_module_version": "1.2.0",
            "grid_template_areas": null,
            "object_position": null,
            "object_fit": null,
            "grid_auto_columns": null,
            "margin": null,
            "display": null,
            "left": null
          }
        },
        "9581e3a4cf5f4af5b2a31e502386fd08": {
          "model_module": "@jupyter-widgets/controls",
          "model_name": "DescriptionStyleModel",
          "state": {
            "_view_name": "StyleView",
            "_model_name": "DescriptionStyleModel",
            "description_width": "",
            "_view_module": "@jupyter-widgets/base",
            "_model_module_version": "1.5.0",
            "_view_count": null,
            "_view_module_version": "1.2.0",
            "_model_module": "@jupyter-widgets/controls"
          }
        },
        "16325192fd7547d39354ec69a19637c0": {
          "model_module": "@jupyter-widgets/base",
          "model_name": "LayoutModel",
          "state": {
            "_view_name": "LayoutView",
            "grid_template_rows": null,
            "right": null,
            "justify_content": null,
            "_view_module": "@jupyter-widgets/base",
            "overflow": null,
            "_model_module_version": "1.2.0",
            "_view_count": null,
            "flex_flow": null,
            "width": null,
            "min_width": null,
            "border": null,
            "align_items": null,
            "bottom": null,
            "_model_module": "@jupyter-widgets/base",
            "top": null,
            "grid_column": null,
            "overflow_y": null,
            "overflow_x": null,
            "grid_auto_flow": null,
            "grid_area": null,
            "grid_template_columns": null,
            "flex": null,
            "_model_name": "LayoutModel",
            "justify_items": null,
            "grid_row": null,
            "max_height": null,
            "align_content": null,
            "visibility": null,
            "align_self": null,
            "height": null,
            "min_height": null,
            "padding": null,
            "grid_auto_rows": null,
            "grid_gap": null,
            "max_width": null,
            "order": null,
            "_view_module_version": "1.2.0",
            "grid_template_areas": null,
            "object_position": null,
            "object_fit": null,
            "grid_auto_columns": null,
            "margin": null,
            "display": null,
            "left": null
          }
        }
      }
    }
  },
  "cells": [
    {
      "cell_type": "markdown",
      "metadata": {
        "id": "view-in-github",
        "colab_type": "text"
      },
      "source": [
        "<a href=\"https://colab.research.google.com/github/elsa9421/Interactive-IPython-Demos/blob/main/CNN_CIFAR10.ipynb\" target=\"_parent\"><img src=\"https://colab.research.google.com/assets/colab-badge.svg\" alt=\"Open In Colab\"/></a>"
      ]
    },
    {
      "cell_type": "markdown",
      "metadata": {
        "id": "eCEr-oyoklBc"
      },
      "source": [
        "# CNN For Image Classification"
      ]
    },
    {
      "cell_type": "markdown",
      "metadata": {
        "id": "3X0qgqsLjHLM"
      },
      "source": [
        "# Import\n",
        "For the CIFAR10 datset and build the Convolutional Neural Network"
      ]
    },
    {
      "cell_type": "code",
      "metadata": {
        "id": "-E6rnuWXDZw6",
        "colab": {
          "base_uri": "https://localhost:8080/",
          "height": 34
        },
        "outputId": "fcdd71dd-65c5-41aa-89e0-601e6e7ed8c2"
      },
      "source": [
        "\n",
        "#imports for the dataset and building our neural network\n",
        "\n",
        "import torch\n",
        "import torchvision\n",
        "import torchvision.datasets as datasets\n",
        "from torch.utils.data import Dataset, DataLoader\n",
        "import torchvision.transforms as transforms\n",
        "import torch.nn.functional as F\n",
        "import matplotlib.pyplot as plt\n",
        "import time\n",
        "\n",
        "\n",
        "if torch.cuda.is_available:\n",
        "  device='cuda'\n",
        "  print('PyTorch can use GPUs!')\n",
        "else:\n",
        "  device='cpu'\n",
        "  print('PyTorch cannot use GPUs.')"
      ],
      "execution_count": null,
      "outputs": [
        {
          "output_type": "stream",
          "text": [
            "PyTorch can use GPUs!\n"
          ],
          "name": "stdout"
        }
      ]
    },
    {
      "cell_type": "markdown",
      "metadata": {
        "id": "Wlku9JMbHl0j"
      },
      "source": [
        ""
      ]
    },
    {
      "cell_type": "markdown",
      "metadata": {
        "id": "8j0SDnLojhEf"
      },
      "source": [
        "#  Load the CIFAR10 training and test datasets using torchvision\n",
        "\n",
        "About CIFAR10 datset : https://www.cs.toronto.edu/~kriz/cifar.html\n",
        "\n",
        "The CIFAR-10 and CIFAR-100 are labeled subsets of the 80 million tiny images dataset. They were collected by Alex Krizhevsky, Vinod Nair, and Geoffrey Hinton.\n",
        "\n",
        " CIFAR-10 dataset details:\n",
        "* Total Number of images=60000 (each being 32x32 colour image)\n",
        "* Number of Classes :10\n",
        "* Number of images per class=6000\n",
        "* Number of Training Images: 50000\n",
        "* Number of Test Images: 10000\n",
        "\n"
      ]
    },
    {
      "cell_type": "markdown",
      "metadata": {
        "id": "ivt0itBpPSFJ"
      },
      "source": [
        "# Normalising the loaded dataset\n",
        "\n",
        "Torchvision uses Pillow (PIL) as the default backend for loading the image. The output of torchvision datasets are therefore PILImage images. We transform them to Tensors of normalized range [-1, 1] by using torchvision's transforms module.\n",
        "The transforms module is commonly used for preprocessing functionalities.  \n",
        "\n",
        "<br>`transforms.Compose`: groups transform objects together to make a single pipeline.\n",
        "<br>`transforms.ToTensor`: converts the three-channeled input RGB image to a three-dimensional tensor with size channel x width × height as 'channel first' order is expected by vision networks in PyTorch.<br> ToTensor also converts the pixel values from a range of 0 to 255 for each channel to a range of 0.0 to 1.0.\n",
        "\n",
        "<br>`transforms.Normalize`: does the following for each channel: image = (image - mean) / std. <br>The parameters mean, std are passed as 0.5, 0.5 in the following case. This will normalize the image in the range [-1,1].<br> For example, the minimum value 0 will be converted to (0-0.5)/0.5=-1, the maximum value of 1 will be converted to 1"
      ]
    },
    {
      "cell_type": "code",
      "metadata": {
        "id": "Ta5h_e6g9YAG",
        "colab": {
          "base_uri": "https://localhost:8080/",
          "height": 100,
          "referenced_widgets": [
            "995987dd78ae4773b76270c70893cbb2",
            "7df134014c184743a055b31dbaf1024a",
            "e2dea7ac127342df966ff35364f8aff2",
            "9288ac118aa34e929131a78ffc99cd0b",
            "9b39820bb108438eaafc73e4935700b0",
            "c83e7bd880f7457785770b1e2c94af28",
            "9581e3a4cf5f4af5b2a31e502386fd08",
            "16325192fd7547d39354ec69a19637c0"
          ]
        },
        "outputId": "ab59202a-d4d6-4cb1-8caa-ec94c9c579c7"
      },
      "source": [
        "# loading the dataset \n",
        "\n",
        "transform = transforms.Compose(\n",
        "                                [transforms.ToTensor(),\n",
        "                                transforms.Normalize((0.5, 0.5, 0.5), (0.5, 0.5, 0.5))]\n",
        "                               )\n",
        "\n",
        "\n",
        "\n",
        "cifar10_trainset = datasets.CIFAR10(root='./data', train=True,download=True, transform=transform)\n",
        "trainloader = torch.utils.data.DataLoader(cifar10_trainset, batch_size=4,shuffle=True, num_workers=2)\n",
        "\n",
        "cifar10_testset = datasets.CIFAR10(root='./data', train=False,download=True, transform=transform)\n",
        "testloader = torch.utils.data.DataLoader(cifar10_testset, batch_size=4,shuffle=False, num_workers=2)\n",
        "\n",
        "classes = {0:'plane', 1:'car', 2:'bird', 3: 'cat',4:'deer', 5:'dog', 6: 'frog', 7:'horse',8: 'ship',9: 'truck'}\n",
        "num_classes=len(classes)\n",
        "\n",
        "# print(len(trainloader))  #12500 , as 50000=4x12500\n",
        "# print(len(testloader))   #2500  , as 10000=4x2500"
      ],
      "execution_count": null,
      "outputs": [
        {
          "output_type": "stream",
          "text": [
            "Downloading https://www.cs.toronto.edu/~kriz/cifar-10-python.tar.gz to ./data/cifar-10-python.tar.gz\n"
          ],
          "name": "stdout"
        },
        {
          "output_type": "display_data",
          "data": {
            "application/vnd.jupyter.widget-view+json": {
              "model_id": "995987dd78ae4773b76270c70893cbb2",
              "version_minor": 0,
              "version_major": 2
            },
            "text/plain": [
              "HBox(children=(FloatProgress(value=1.0, bar_style='info', max=1.0), HTML(value='')))"
            ]
          },
          "metadata": {
            "tags": []
          }
        },
        {
          "output_type": "stream",
          "text": [
            "Extracting ./data/cifar-10-python.tar.gz to ./data\n",
            "Files already downloaded and verified\n"
          ],
          "name": "stdout"
        }
      ]
    },
    {
      "cell_type": "code",
      "metadata": {
        "id": "d4Cr-0y39bvF",
        "colab": {
          "base_uri": "https://localhost:8080/",
          "height": 206
        },
        "outputId": "4a8880a6-e34d-46a2-a3b0-16d0a05b6b99"
      },
      "source": [
        "#Display 4 random images\n",
        "def imshow(img):\n",
        "\n",
        "  img = img / 2 + 0.5     # unnormalize\n",
        "  img = img.numpy().transpose(1, 2, 0)  #convert to numpy array ad then transpose to get width x height x channel\n",
        "\n",
        " \n",
        "  plt.imshow(img)\n",
        "  plt.show()\n",
        "\n",
        "train_loader_iter = iter(trainloader)\n",
        "img,labels=train_loader_iter.next()\n",
        "print(type(img))\n",
        "print(img.size())\n",
        "\n",
        "# show images\n",
        "imshow(torchvision.utils.make_grid(img))\n",
        "# print labels\n",
        "print(' '.join('%10s' % classes[label.item()] for label in labels))"
      ],
      "execution_count": null,
      "outputs": [
        {
          "output_type": "stream",
          "text": [
            "<class 'torch.Tensor'>\n",
            "torch.Size([4, 3, 32, 32])\n"
          ],
          "name": "stdout"
        },
        {
          "output_type": "display_data",
          "data": {
            "image/png": "[encoded data removed]",
            "text/plain": [
              "<Figure size 432x288 with 1 Axes>"
            ]
          },
          "metadata": {
            "tags": [],
            "needs_background": "light"
          }
        },
        {
          "output_type": "stream",
          "text": [
            "\n",
            "      bird       deer       ship       deer\n"
          ],
          "name": "stdout"
        }
      ]
    },
    {
      "cell_type": "markdown",
      "metadata": {
        "id": "ARDeAZ-RszQk"
      },
      "source": [
        "# CNN\n",
        "The CNN is defined with the following layer sequence\n",
        "\n",
        "<br>Sequential(<br>\n",
        "  (0): Conv2d(3, 6, kernel_size=(5, 5), stride=(1, 1))<br>\n",
        "  (1): ReLU()<br>\n",
        "  (2): MaxPool2d(kernel_size=(2, 2), stride=(2, 2), padding=0, dilation=1,    ceil_mode=False)<br>\n",
        "  (3): Conv2d(6, 16, kernel_size=(5, 5), stride=(1, 1))<br>\n",
        "  (4): ReLU()<br>\n",
        "  (5): MaxPool2d(kernel_size=(2, 2), stride=(2, 2), padding=0, dilation=1, ceil_mode=False)<br>\n",
        "  (6): Linear(in_features=400, out_features=120, bias=True)<br>\n",
        "  (7): ReLU()<br>\n",
        "  (8): Linear(in_features=120, out_features=84, bias=True)<br>\n",
        "  (9): ReLU()<br>\n",
        "  (10): Linear(in_features=84, out_features=10, bias=True)<br>\n",
        ")"
      ]
    },
    {
      "cell_type": "code",
      "metadata": {
        "id": "9Ax-8xK5oDV4",
        "colab": {
          "base_uri": "https://localhost:8080/",
          "height": 153
        },
        "outputId": "5ded5640-033b-46d3-c229-122f3af41a44"
      },
      "source": [
        "\n",
        "class ConvNet(torch.nn.Module):\n",
        "    def __init__(self,num_classes=10):\n",
        "        super(ConvNet, self).__init__()\n",
        "        self.conv1 = torch.nn.Conv2d(in_channels=3, out_channels=6, kernel_size=5)    #torch.Size([6, 3, 5, 5])\n",
        "        self.pool = torch.nn.MaxPool2d(kernel_size=(2,2))\n",
        "        self.conv2 = torch.nn.Conv2d(in_channels=6, out_channels=16, kernel_size=5)   #torch.Size([16, 6, 5, 5])\n",
        "        self.fc1 = torch.nn.Linear(in_features=16 * 5 * 5, out_features=120)\n",
        "        self.fc2 = torch.nn.Linear(in_features=120, out_features=84)\n",
        "        self.fc3 = torch.nn.Linear(in_features=84, out_features=num_classes)\n",
        "\n",
        "    def forward(self, x):\n",
        "        #print(\"1:\",x.shape)\n",
        "        x = self.pool(F.relu(self.conv1(x)))\n",
        "        x = self.pool(F.relu(self.conv2(x)))\n",
        "        #print(\"3:\",x.shape)\n",
        "        x = x.view(-1, 16 * 5 * 5)    #(num_images,400)\n",
        "        \n",
        "        x = F.relu(self.fc1(x))\n",
        "        x = F.relu(self.fc2(x))\n",
        "        x = self.fc3(x)\n",
        "        return x\n",
        "\n",
        "\n",
        "# (3x32x32) -> conv1 -> (32-5+1) -> (6x28x28)\n",
        "# (6x28x28) ->maxpool1 -> (28/2) -> (6x14x14)\n",
        "# (6x14x14) ->conv2 -> (14-5+1) -> (16x10x10)\n",
        "# (16x10x10) -> maxpool2 -> (10/2) -> (16x5x5)\n",
        "# (16x5x5) = 400 -> Linear -> 120\n",
        "#  120   -> Linear-> 84\n",
        "#   84 -> Linear -> output_dim =10\n",
        "\n",
        "net = ConvNet(num_classes).to(device)\n",
        "net\n",
        "\n",
        "\n",
        "\n",
        "\n"
      ],
      "execution_count": null,
      "outputs": [
        {
          "output_type": "execute_result",
          "data": {
            "text/plain": [
              "ConvNet(\n",
              "  (conv1): Conv2d(3, 6, kernel_size=(5, 5), stride=(1, 1))\n",
              "  (pool): MaxPool2d(kernel_size=(2, 2), stride=(2, 2), padding=0, dilation=1, ceil_mode=False)\n",
              "  (conv2): Conv2d(6, 16, kernel_size=(5, 5), stride=(1, 1))\n",
              "  (fc1): Linear(in_features=400, out_features=120, bias=True)\n",
              "  (fc2): Linear(in_features=120, out_features=84, bias=True)\n",
              "  (fc3): Linear(in_features=84, out_features=10, bias=True)\n",
              ")"
            ]
          },
          "metadata": {
            "tags": []
          },
          "execution_count": 4
        }
      ]
    },
    {
      "cell_type": "markdown",
      "metadata": {
        "id": "olDTgrRzupSS"
      },
      "source": [
        "#Hyperparamters"
      ]
    },
    {
      "cell_type": "code",
      "metadata": {
        "id": "1_rB5_5xPcGU"
      },
      "source": [
        "\n",
        "\n",
        "# Hyperparameters\n",
        "num_epochs = 2\n",
        "batch_size = 4\n",
        "learning_rate = 0.001\n",
        "\n",
        "# Using Classification Cross-Entropy loss and Adam optimizer.\n",
        "\n",
        "#Define a Loss function\n",
        "criterion = torch.nn.CrossEntropyLoss().to(device)\n",
        "#optimizer = torch.optim.SGD(net.parameters(), lr=learning_rate, momentum=0.9)   #SGD optimizer :stochastic Gradient descent with momentum\n",
        "# Using Adam optimizer\n",
        "optimizer = torch.optim.Adam(net.parameters(), lr=learning_rate)\n",
        "\n"
      ],
      "execution_count": null,
      "outputs": []
    },
    {
      "cell_type": "markdown",
      "metadata": {
        "id": "x4VP55qAukPR"
      },
      "source": [
        "# Train the Network"
      ]
    },
    {
      "cell_type": "code",
      "metadata": {
        "id": "S2ptdeh-1MkR",
        "colab": {
          "base_uri": "https://localhost:8080/",
          "height": 255
        },
        "outputId": "04807e30-fc5c-41d2-91a5-2ba0e394d06d"
      },
      "source": [
        "\n",
        "# Train the network\n",
        "torch.cuda.synchronize()\n",
        "t0=time.time()\n",
        "N=len(trainloader)\n",
        "for epoch in range(num_epochs): \n",
        "\n",
        "    running_loss = 0.0\n",
        "    for i, (inputs,labels) in enumerate(trainloader):\n",
        "        # get the inputs; data is a list of [inputs, labels]\n",
        " \n",
        "        #inputs, labels = data\n",
        "        inputs=inputs.to(device)\n",
        "        labels=labels.to(device)\n",
        "\n",
        "        # zero the parameter gradients\n",
        "        optimizer.zero_grad()\n",
        "\n",
        "        # forward + backward + optimize\n",
        "        # Forward pass: compute predicted output by passing inputs to net()\n",
        "        outputs = net(inputs)   #inputs:torch.Size([4, 3, 32, 32]) outputs:torch.Size([4, 10])\n",
        "      \n",
        "        # Compute loss.\n",
        "        loss = criterion(outputs, labels)\n",
        "        \n",
        "        # Backward pass: compute gradient of the loss with respect to model parameters\n",
        "        loss.backward()\n",
        "\n",
        "        # Calling the step function on an Optimizer makes an update to its parameters\n",
        "        optimizer.step()\n",
        "\n",
        "        \n",
        "        #To print statistics\n",
        "        running_loss += loss.item()   \n",
        "        \n",
        "\n",
        "        if i % 2000 == 1999:    # print every 2000 mini-batches\n",
        "            print('[Epoch: {:1d}/{:1d} Iteration:{:1d}/{:1d}] loss: {:.3f}'\n",
        "            .format(epoch + 1,num_epochs, i + 1,N, running_loss / 2000))\n",
        "            running_loss = 0.0\n",
        "\n",
        "t1=time.time()\n",
        "print(t1-t0)\n",
        "print('Finished Training')"
      ],
      "execution_count": null,
      "outputs": [
        {
          "output_type": "stream",
          "text": [
            "[Epoch: 1/2 Iteration:2000/12500] loss: 1.861\n",
            "[Epoch: 1/2 Iteration:4000/12500] loss: 1.616\n",
            "[Epoch: 1/2 Iteration:6000/12500] loss: 1.538\n",
            "[Epoch: 1/2 Iteration:8000/12500] loss: 1.454\n",
            "[Epoch: 1/2 Iteration:10000/12500] loss: 1.433\n",
            "[Epoch: 1/2 Iteration:12000/12500] loss: 1.390\n",
            "[Epoch: 2/2 Iteration:2000/12500] loss: 1.335\n",
            "[Epoch: 2/2 Iteration:4000/12500] loss: 1.330\n",
            "[Epoch: 2/2 Iteration:6000/12500] loss: 1.299\n",
            "[Epoch: 2/2 Iteration:8000/12500] loss: 1.285\n",
            "[Epoch: 2/2 Iteration:10000/12500] loss: 1.291\n",
            "[Epoch: 2/2 Iteration:12000/12500] loss: 1.260\n",
            "194.86797547340393\n",
            "Finished Training\n"
          ],
          "name": "stdout"
        }
      ]
    },
    {
      "cell_type": "markdown",
      "metadata": {
        "id": "60qTwKxU1L4_"
      },
      "source": [
        "To save the trained model"
      ]
    },
    {
      "cell_type": "code",
      "metadata": {
        "id": "J0ZI4LrtYE15"
      },
      "source": [
        "\n",
        "\n",
        "PATH = './cifar_net.pth'\n",
        "torch.save(net.state_dict(), PATH)\n"
      ],
      "execution_count": null,
      "outputs": []
    },
    {
      "cell_type": "markdown",
      "metadata": {
        "id": "htUmcmTru2j2"
      },
      "source": [
        "#Test the network"
      ]
    },
    {
      "cell_type": "code",
      "metadata": {
        "id": "eVQCBTlcYUZP",
        "colab": {
          "base_uri": "https://localhost:8080/",
          "height": 172
        },
        "outputId": "bdf60e43-e4fb-44dd-f5e5-8f5038140f20"
      },
      "source": [
        "dataiter = iter(testloader)\n",
        "images, labels = dataiter.next()\n",
        "\n",
        "images, labels = dataiter.next()\n",
        "\n",
        "# print images\n",
        "imshow(torchvision.utils.make_grid(images))\n",
        "\n",
        "print('GroundTruth: ', ' '.join('%5s' % classes[label.item()] for label in labels))\n",
        "########################################################################\n",
        "# testing\n",
        "\n",
        "outputs_test = net(images.to(device))\n",
        "_, predicted = torch.max(outputs_test, 1)  #returns a tuple (max_values,indices)\n",
        "\n",
        "print('Predicted: ', ' '.join('%5s' % classes[predicted[j].item()]\n",
        "                              for j in range(4)))\n",
        "\n",
        "########################################################################"
      ],
      "execution_count": null,
      "outputs": [
        {
          "output_type": "display_data",
          "data": {
            "image/png": "[encoded data removed]",
            "text/plain": [
              "<Figure size 432x288 with 1 Axes>"
            ]
          },
          "metadata": {
            "tags": [],
            "needs_background": "light"
          }
        },
        {
          "output_type": "stream",
          "text": [
            "GroundTruth:   frog  frog   car  frog\n",
            "Predicted:   frog  frog   car  frog\n"
          ],
          "name": "stdout"
        }
      ]
    },
    {
      "cell_type": "markdown",
      "metadata": {
        "id": "03yZ6RIrvA58"
      },
      "source": [
        "# Accuracy"
      ]
    },
    {
      "cell_type": "code",
      "metadata": {
        "id": "4GAjH6lgYaG0",
        "colab": {
          "base_uri": "https://localhost:8080/",
          "height": 34
        },
        "outputId": "898266dd-bcc8-445f-cea8-24cb4f809989"
      },
      "source": [
        "#Accuracy\n",
        "\n",
        "correct = 0\n",
        "total = 0\n",
        "with torch.no_grad():\n",
        "    for data in testloader:\n",
        "        images, labels = data\n",
        "        outputs = net(images.to(device))\n",
        "        _, predicted = torch.max(outputs, 1)\n",
        "        total += labels.size(0)\n",
        "        correct += (predicted == labels.to(device)).sum().item()\n",
        "\n",
        "print('Accuracy of the network on the 10000 test images: %d %%' % (\n",
        "    100 * correct / total))"
      ],
      "execution_count": null,
      "outputs": [
        {
          "output_type": "stream",
          "text": [
            "Accuracy of the network on the 10000 test images: 53 %\n"
          ],
          "name": "stdout"
        }
      ]
    },
    {
      "cell_type": "code",
      "metadata": {
        "id": "zwyXwTqfoRwp"
      },
      "source": [
        "with torch.no_grad():\n",
        "    for data in trainloader:\n",
        "        images, labels = data\n",
        "        outputs = net(images.to(device))\n",
        "        _, predicted = torch.max(outputs, 1)\n",
        "        total += labels.size(0)\n",
        "        correct += (predicted == labels.to(device)).sum().item()\n",
        "\n",
        "print('Accuracy of the network on the 50000 train images: %d %%' % (\n",
        "    100 * correct / total))"
      ],
      "execution_count": null,
      "outputs": []
    }
  ]
}
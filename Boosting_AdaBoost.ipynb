{
  "nbformat": 4,
  "nbformat_minor": 0,
  "metadata": {
    "colab": {
      "name": "Boosting_AdaBoost.ipynb",
      "provenance": [],
      "collapsed_sections": [],
      "include_colab_link": true
    },
    "kernelspec": {
      "name": "python3",
      "display_name": "Python 3"
    },
    "widgets": {
      "application/vnd.jupyter.widget-state+json": {
        "13f26448e1a145d286d54f28bf724890": {
          "model_module": "@jupyter-widgets/controls",
          "model_name": "ButtonModel",
          "state": {
            "_view_name": "ButtonView",
            "style": "IPY_MODEL_33521a6edd8a4e7ca3e28721c8473667",
            "_dom_classes": [],
            "description": "Next Iteration",
            "_model_name": "ButtonModel",
            "button_style": "",
            "_view_module": "@jupyter-widgets/controls",
            "_model_module_version": "1.5.0",
            "tooltip": "",
            "_view_count": null,
            "disabled": false,
            "_view_module_version": "1.5.0",
            "layout": "IPY_MODEL_d9d99875c91f4522b7243426fd1d2644",
            "_model_module": "@jupyter-widgets/controls",
            "icon": ""
          }
        },
        "33521a6edd8a4e7ca3e28721c8473667": {
          "model_module": "@jupyter-widgets/controls",
          "model_name": "ButtonStyleModel",
          "state": {
            "_view_name": "StyleView",
            "_model_name": "ButtonStyleModel",
            "_view_module": "@jupyter-widgets/base",
            "_model_module_version": "1.5.0",
            "_view_count": null,
            "button_color": null,
            "font_weight": "",
            "_view_module_version": "1.2.0",
            "_model_module": "@jupyter-widgets/controls"
          }
        },
        "d9d99875c91f4522b7243426fd1d2644": {
          "model_module": "@jupyter-widgets/base",
          "model_name": "LayoutModel",
          "state": {
            "_view_name": "LayoutView",
            "grid_template_rows": null,
            "right": null,
            "justify_content": null,
            "_view_module": "@jupyter-widgets/base",
            "overflow": null,
            "_model_module_version": "1.2.0",
            "_view_count": null,
            "flex_flow": null,
            "width": null,
            "min_width": null,
            "border": null,
            "align_items": null,
            "bottom": null,
            "_model_module": "@jupyter-widgets/base",
            "top": null,
            "grid_column": null,
            "overflow_y": null,
            "overflow_x": null,
            "grid_auto_flow": null,
            "grid_area": null,
            "grid_template_columns": null,
            "flex": null,
            "_model_name": "LayoutModel",
            "justify_items": null,
            "grid_row": null,
            "max_height": null,
            "align_content": null,
            "visibility": null,
            "align_self": null,
            "height": null,
            "min_height": null,
            "padding": null,
            "grid_auto_rows": null,
            "grid_gap": null,
            "max_width": null,
            "order": null,
            "_view_module_version": "1.2.0",
            "grid_template_areas": null,
            "object_position": null,
            "object_fit": null,
            "grid_auto_columns": null,
            "margin": null,
            "display": null,
            "left": null
          }
        }
      }
    }
  },
  "cells": [
    {
      "cell_type": "markdown",
      "metadata": {
        "id": "view-in-github",
        "colab_type": "text"
      },
      "source": [
        "<a href=\"https://colab.research.google.com/github/elsa9421/Interactive-IPython-Demos/blob/main/Boosting_AdaBoost.ipynb\" target=\"_parent\"><img src=\"https://colab.research.google.com/assets/colab-badge.svg\" alt=\"Open In Colab\"/></a>"
      ]
    },
    {
      "cell_type": "markdown",
      "metadata": {
        "id": "dVWoChKOpZJf"
      },
      "source": [
        "This IPython Notebook demonstrates AdaBoost Boosting Algorithm"
      ]
    },
    {
      "cell_type": "markdown",
      "metadata": {
        "id": "mip2XGo2hrRf"
      },
      "source": [
        "\n",
        "\n",
        "## Boosting :\n",
        "\n",
        "In machine learning, boosting is an ensemble meta-algorithm for primarily reducing bias, and also variance in supervised learning, and a family of machine learning algorithms that convert weak learners to strong ones\n",
        "<br>The output of a `weak learner` is a `base classifier` that is only slightly correlated with the true classification \n",
        "<br>i.e it can label examples better than random guessing \n",
        "<br>In contrast, the output of a  `strong learner` is a classifier that is arbitrarily well-correlated with the true classification.\n",
        "\n",
        "## AdaBoost\n",
        "`AdaBoost`, short for `Adaptive Boosting`, is a machine learning meta-algorithm formulated by Yoav Freund and Robert Schapire\n",
        "The output of the `weak learners` (`base classifier`) is combined into a weighted sum that represents the final output of the boosted classifier. <br> `AdaBoost` is adaptive in the sense that subsequent weak learners are tweaked such that after each iteration, we re-weight the dataset to assign greater importance to data points which were misclassified by the previous weak learner, so that those data points get special attention during the next iteration .\n",
        "\n",
        "\n",
        "\n",
        "\n",
        "\n"
      ]
    },
    {
      "cell_type": "markdown",
      "metadata": {
        "id": "ZvYeobhFCfun"
      },
      "source": [
        "Credit : https://geoffruddock.com/adaboost-from-scratch-in-python/"
      ]
    },
    {
      "cell_type": "markdown",
      "metadata": {
        "id": "gRokRQMSVCq3"
      },
      "source": [
        "# Dataset\n",
        "\n",
        "We will generate a toy dataset using using less data points. The key here is that we want to have two classes which are not linearly separable, since this is the ideal use-case for AdaBoost."
      ]
    },
    {
      "cell_type": "code",
      "metadata": {
        "id": "WSOWYrJjVWSJ",
        "colab": {
          "base_uri": "https://localhost:8080/",
          "height": 480
        },
        "outputId": "a5e21cf0-1115-4969-835a-71d869211f41"
      },
      "source": [
        "\n",
        "import numpy as np\n",
        "import matplotlib.pyplot as plt\n",
        "import ipywidgets as widgets\n",
        "from IPython import display\n",
        "from sklearn.datasets import make_gaussian_quantiles\n",
        "from sklearn.model_selection import train_test_split\n",
        "\n",
        "\n",
        "def plot_adaboost(X,y,clf=None,sample_weights = None, annotate= False, ax= None,title=None): \n",
        "    \"\"\" Plot ± samples in 2D, optionally with decision boundary \"\"\"\n",
        "\n",
        "    assert set(y) == {-1, 1}, 'Expecting response labels to be ±1'\n",
        "\n",
        "    if not ax:\n",
        "        fig, ax = plt.subplots(figsize=(5, 5), dpi=100)\n",
        "        fig.set_facecolor('white')\n",
        "\n",
        "    pad = 1\n",
        "    x_min, x_max = X[:, 0].min() - pad, X[:, 0].max() + pad\n",
        "    y_min, y_max = X[:, 1].min() - pad, X[:, 1].max() + pad\n",
        "\n",
        "    if sample_weights is not None:\n",
        "        sizes = np.array(sample_weights) * X.shape[0] * 100\n",
        "    else:\n",
        "        sizes = np.ones(shape=X.shape[0]) * 100\n",
        "    \n",
        "\n",
        "    X_pos = X[y == 1]\n",
        "    sizes_pos = sizes[y == 1]\n",
        "    ax.scatter(*X_pos.T, s=sizes_pos, marker='+', color='red',label=\"class 1\")\n",
        "\n",
        "    X_neg = X[y == -1]\n",
        "    sizes_neg = sizes[y == -1]\n",
        "    ax.scatter(*X_neg.T, s=sizes_neg, marker='.', c='blue',label=\"class -1\")\n",
        "\n",
        "    if clf:\n",
        "        plot_step = 0.01\n",
        "        xx, yy = np.meshgrid(np.arange(x_min, x_max, plot_step),\n",
        "                             np.arange(y_min, y_max, plot_step))\n",
        "\n",
        "        Z = clf.predict(np.c_[xx.ravel(), yy.ravel()])\n",
        "        Z = Z.reshape(xx.shape)\n",
        "        \n",
        "        # If all predictions are positive class, adjust color map acordingly\n",
        "        if list(np.unique(Z)) == [1]:\n",
        "            fill_colors = ['r']\n",
        "        else:\n",
        "            fill_colors = ['b', 'r']\n",
        "\n",
        "        ax.contourf(xx, yy, Z, colors=fill_colors, alpha=0.2)\n",
        "    \n",
        "    if title:\n",
        "      plt.title(title)\n",
        "\n",
        "    if annotate:\n",
        "        for i, (x, y) in enumerate(X):\n",
        "            offset = 0.05\n",
        "            ax.annotate(f'$x_{i + 1}$', (x + offset, y - offset))\n",
        "\n",
        "    ax.set_xlim(x_min+0.5, x_max-0.5)\n",
        "    ax.set_ylim(y_min+0.5, y_max-0.5)\n",
        "    ax.set_xlabel('$x_1$')\n",
        "    ax.set_ylabel('$x_2$')\n",
        "    ax.legend()\n",
        "\n",
        "\n",
        "\n",
        "def make_toy_dataset(n: int = 100, random_seed: int = None):\n",
        "    \"\"\" Generate a toy dataset for evaluating AdaBoost classifiers \"\"\"\n",
        "    \n",
        "    n_per_class = int(n/2)\n",
        "    \n",
        "    if random_seed:\n",
        "        np.random.seed(random_seed)\n",
        "\n",
        "    X, y = make_gaussian_quantiles(n_samples=n, n_features=2, n_classes=2)\n",
        "    \n",
        "    return X, y*2-1\n",
        "\n",
        "X, y = make_toy_dataset(n=30, random_seed=10)\n",
        "plot_adaboost(X, y,title=\"Dataset\")"
      ],
      "execution_count": null,
      "outputs": [
        {
          "output_type": "display_data",
          "data": {
            "image/png": "[encoded data removed]",
            "text/plain": [
              "<Figure size 500x500 with 1 Axes>"
            ]
          },
          "metadata": {
            "tags": []
          }
        }
      ]
    },
    {
      "cell_type": "markdown",
      "metadata": {
        "id": "RJsPLiS_p6GK"
      },
      "source": [
        "## The AdaBoost Algorithm \n",
        "\n",
        " \n",
        "\n",
        "A)   Initialize sample weights uniformly as $w_i^1= 1/n$ , where $n$ = number of data points\n",
        "B)  For each iteration $t$:\n",
        ">\n",
        " 1. Find weak learner $h_t(x)$ which minimizes $\\epsilon_t = $ $\\Sigma_{i=1}^n$ $\\mathbb{1}$ $[h_t(x_i) \\neq$ $y_i] w_i^{(t)}$\n",
        " <br>\n",
        " 2.  We set a weight for our weak learner based on its accuracy: $alpha_t =  {\\dfrac{1}{2}} ln({\\dfrac{1-\\epsilon_t}{\\epsilon_t}})$ \n",
        " 3. Increase weights of misclassified observations: $w_i^{(t+1)}=w_i^{(t)}.e^{-\\alpha^t y_i h_t(x_i)}$\n",
        " 4. Renormalize weights, so that $\\Sigma_{i=1}^n w_i^{(t+1)}=1$\n",
        "\n",
        "C)   Make final prediction as weighted majority vote of weak learner predictions:\n",
        "$H(x)= sign( \\Sigma_{t=1}^T \\alpha_t h_t(x))$\n",
        "\n",
        "\n",
        "\n",
        "The table below shows a mapping between the variable names we will use and the math notation used earlier in the description of the algorithm.\n",
        "\n",
        "|  Variable                            | Math        |\n",
        "|--------------------------------------|-------------|\n",
        "|   sample weights with shape: (T, n)  | $w_i^{(t)}$ | \n",
        "|   stumps with shape: (T, )           |  $h_t{(x)}$ | \n",
        "|   stump_weights with shape (T, )     | $\\alpha_t$  |\n",
        "|errors with shape: (T, )    | $\\epsilon_t$ |\n",
        "|clf.predict(X)\t| $H_t {(x)}$|\n",
        "\n",
        "\n",
        "## Implementation Notes:\n",
        "\n",
        "* Here, the weak learner $h_t(x)$ is `DecisionTreeClassifier(max_depth=1, max_leaf_nodes=2)`\n",
        "\n",
        "* We set the initial uniform sample weights outside of the for-loop and set the weights for `t+1` within each iteration , unless it is the last iteration. \n",
        "\n",
        "About the Plot :\n",
        "\n",
        "* Two plots are generated for each iteration\n",
        "<br>`Plot 1`: Base classifier at the particular iteration\n",
        "<br>`Plot 2`: Output of the Strong learner generated by weighted majority vote of weak learner prediction (as specified in Step C)\n",
        "\n",
        "* In order to visualize the weights at each iteration, the code is written such that the sizes of the  misclassified observations are proportional to weights assigned to them. (The weights are assigned according to step 3)\n",
        "<br> For example, if `datapoint k` is missclassified in `iteration t`, then weight is increased for `datapoint k` in iteration `t+1`, and the marker size for the `datapoint k` is increased in iteration `t+1`\n",
        "\n",
        "\n",
        "\n"
      ]
    },
    {
      "cell_type": "code",
      "metadata": {
        "id": "iEhgxgwAeme6",
        "colab": {
          "base_uri": "https://localhost:8080/",
          "height": 551,
          "referenced_widgets": [
            "13f26448e1a145d286d54f28bf724890",
            "33521a6edd8a4e7ca3e28721c8473667",
            "d9d99875c91f4522b7243426fd1d2644"
          ]
        },
        "outputId": "f5876fe2-88c7-4a90-8033-f340ff5add18"
      },
      "source": [
        "class AdaBoost:\n",
        "    \"\"\" \n",
        "    AdaBoost enemble classifier from scratch\n",
        "    \n",
        "    -sample_weights with shape: (T, n)\n",
        "    -stumps with shape: (T, )\n",
        "    -stump_weights with shape (T, )\n",
        "    -errors with shape: (T, )\n",
        "    \n",
        "    \n",
        "    \"\"\"\n",
        "\n",
        "    def __init__(self):\n",
        "        self.stumps = None\n",
        "        self.stump_weights = None\n",
        "        self.errors = None\n",
        "        self.sample_weights = None\n",
        "\n",
        "    def _check_X_y(self, X, y):\n",
        "        \"\"\" Validate assumptions about format of input data\"\"\"\n",
        "        assert set(y) == {-1, 1}, 'Response variable must be ±1'\n",
        "        return X, y\n",
        "\n",
        "from sklearn.tree import DecisionTreeClassifier\n",
        "\n",
        "def fit(self, X: np.ndarray, y: np.ndarray, iters: int):\n",
        "    \"\"\" Fit the model using training data \"\"\"\n",
        "\n",
        "    X, y = self._check_X_y(X, y)\n",
        "    n = X.shape[0]\n",
        "\n",
        "    # init numpy arrays\n",
        "    self.sample_weights = np.zeros(shape=(iters, n))\n",
        "    self.stumps = np.zeros(shape=iters, dtype=object)\n",
        "    self.stump_weights = np.zeros(shape=iters)\n",
        "    self.errors = np.zeros(shape=iters)\n",
        "\n",
        "    # initialize weights uniformly\n",
        "    self.sample_weights[0] = np.ones(shape=n) / n\n",
        "\n",
        "    for t in range(iters):\n",
        "        # fit  weak learner\n",
        "        curr_sample_weights = self.sample_weights[t]\n",
        "        stump = DecisionTreeClassifier(max_depth=1, max_leaf_nodes=2)\n",
        "        stump = stump.fit(X, y, sample_weight=curr_sample_weights)\n",
        "\n",
        "        # calculate error and stump weight from weak learner prediction\n",
        "        stump_pred = stump.predict(X)\n",
        "        err = curr_sample_weights[(stump_pred != y)].sum()# / n\n",
        "        stump_weight = np.log((1 - err) / err) / 2\n",
        "\n",
        "        # update sample weights\n",
        "        new_sample_weights = (\n",
        "            curr_sample_weights * np.exp(-stump_weight * y * stump_pred)\n",
        "        )\n",
        "        \n",
        "        new_sample_weights /= new_sample_weights.sum()\n",
        "\n",
        "        # If not final iteration, update sample weights for t+1\n",
        "        if t+1 < iters:\n",
        "            self.sample_weights[t+1] = new_sample_weights\n",
        "\n",
        "        # save results of iteration\n",
        "        self.stumps[t] = stump\n",
        "        self.stump_weights[t] = stump_weight\n",
        "        self.errors[t] = err\n",
        "\n",
        "    return self\n",
        "\n",
        "def predict(self, X):\n",
        "    \"\"\" Make predictions using already fitted model \"\"\"\n",
        "    stump_preds = np.array([stump.predict(X) for stump in self.stumps])\n",
        "    return np.sign(np.dot(self.stump_weights, stump_preds))\n",
        "\n",
        "# assign our individually defined functions as methods of our classifier\n",
        "AdaBoost.fit = fit\n",
        "AdaBoost.predict = predict\n",
        "\n",
        "clf = AdaBoost().fit(X, y, iters=10)\n",
        "\n",
        "\n",
        "def truncate_adaboost(clf, t: int):\n",
        "    \"\"\" Truncate a fitted AdaBoost up to (and including) a particular iteration \"\"\"\n",
        "    assert t > 0, 't must be a positive integer'\n",
        "    from copy import deepcopy\n",
        "    new_clf = deepcopy(clf)\n",
        "    new_clf.stumps = clf.stumps[:t]\n",
        "    new_clf.stump_weights = clf.stump_weights[:t]\n",
        "    return new_clf\n",
        "\n",
        "\n",
        "def plot_staged_adaboost(X, y, clf, iters=10):\n",
        "    \"\"\" Plot weak learner and cumulaive strong learner at each iteration. \"\"\"\n",
        "    \n",
        "    # larger grid\n",
        "    fig, axes = plt.subplots(figsize=(9,1*5),\n",
        "                             nrows=1,\n",
        "                             ncols=2,\n",
        "                             sharex=True,\n",
        "                             dpi=100)\n",
        "    # fig, axes=plt.subplot(figsize=(8,8))\n",
        "    \n",
        "    fig.set_facecolor('white')\n",
        "\n",
        "    #fig.suptitle('Decision boundaries by iteration')\n",
        "    i=iters\n",
        "    ax1, ax2 = axes[0],axes[1]\n",
        "\n",
        "    # Plot weak learner\n",
        "    _ = ax1.set_title(f'Weak learner at t={i + 1}')\n",
        "    plot_adaboost(X, y, clf.stumps[i],\n",
        "                  sample_weights=clf.sample_weights[i],\n",
        "                  annotate=False, ax=ax1)\n",
        "\n",
        "    # Plot strong learner\n",
        "    trunc_clf = truncate_adaboost(clf, t=i + 1)\n",
        "    _ = ax2.set_title(f'Strong learner at t={i + 1}')\n",
        "    plot_adaboost(X, y, trunc_clf,\n",
        "                  sample_weights=clf.sample_weights[i],\n",
        "                  annotate=False, ax=ax2)\n",
        "\n",
        "    plt.tight_layout()\n",
        "    plt.subplots_adjust(top=0.95)\n",
        "    plt.show()\n",
        "\n",
        "clf = AdaBoost().fit(X, y, iters=15)\n",
        "\n",
        "next=0\n",
        "\n",
        "\n",
        "### Just create a button for iters\n",
        "\n",
        "button = widgets.Button(description=\"Next Iteration\")\n",
        "output = widgets.Output()\n",
        "\n",
        "\n",
        "\n",
        "def on_button_clicked(b):\n",
        "  global next\n",
        "  next+=1\n",
        "  display.clear_output(wait=True)\n",
        "  if next<14:\n",
        "    display.display(button)\n",
        "  plot_staged_adaboost(X, y, clf,next)\n",
        "\n",
        "\n",
        "button.on_click(on_button_clicked)\n",
        "display.display(button)\n",
        "plot_staged_adaboost(X, y, clf,next)\n",
        "\n",
        "\n"
      ],
      "execution_count": null,
      "outputs": [
        {
          "output_type": "display_data",
          "data": {
            "application/vnd.jupyter.widget-view+json": {
              "model_id": "13f26448e1a145d286d54f28bf724890",
              "version_minor": 0,
              "version_major": 2
            },
            "text/plain": [
              "Button(description='Next Iteration', style=ButtonStyle())"
            ]
          },
          "metadata": {
            "tags": []
          }
        },
        {
          "output_type": "display_data",
          "data": {
            "image/png": "[encoded data removed]",
            "text/plain": [
              "<Figure size 900x500 with 2 Axes>"
            ]
          },
          "metadata": {
            "tags": []
          }
        }
      ]
    },
    {
      "cell_type": "markdown",
      "metadata": {
        "id": "H2X5iri-Ybwj"
      },
      "source": [
        "## Benchmark with scikit-Learn\n",
        " \n",
        "Use `AdaBoostClassifier` by importing it  from sckit-learn \n",
        "[Read more](https://scikit-learn.org/stable/modules/generated/sklearn.ensemble.AdaBoostClassifier.html)\n"
      ]
    },
    {
      "cell_type": "code",
      "metadata": {
        "id": "nKBK613wX9ti",
        "colab": {
          "base_uri": "https://localhost:8080/",
          "height": 475
        },
        "outputId": "e6fc94dc-fab8-430c-b1b6-91b5adb02199"
      },
      "source": [
        "from sklearn.ensemble import AdaBoostClassifier\n",
        "\n",
        "bench = AdaBoostClassifier(n_estimators=15, algorithm='SAMME').fit(X, y)\n",
        "plot_adaboost(X, y, bench)\n",
        "\n",
        "train_err = (bench.predict(X) != y).mean()\n",
        "print(f'Train error: {train_err:.1%}')\n"
      ],
      "execution_count": null,
      "outputs": [
        {
          "output_type": "stream",
          "text": [
            "Train error: 0.0%\n"
          ],
          "name": "stdout"
        },
        {
          "output_type": "display_data",
          "data": {
            "image/png": "[encoded data removed]",
            "text/plain": [
              "<Figure size 500x500 with 1 Axes>"
            ]
          },
          "metadata": {
            "tags": []
          }
        }
      ]
    }
  ]
}
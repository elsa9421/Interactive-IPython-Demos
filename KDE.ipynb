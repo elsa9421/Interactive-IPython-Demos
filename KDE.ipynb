{
  "nbformat": 4,
  "nbformat_minor": 0,
  "metadata": {
    "colab": {
      "name": "KDE.ipynb",
      "provenance": [],
      "collapsed_sections": [],
      "include_colab_link": true
    },
    "kernelspec": {
      "name": "python3",
      "display_name": "Python 3"
    },
    "widgets": {
      "application/vnd.jupyter.widget-state+json": {
        "81679fa33adf436689d021370c1d717c": {
          "model_module": "@jupyter-widgets/controls",
          "model_name": "HBoxModel",
          "state": {
            "_view_name": "HBoxView",
            "_dom_classes": [],
            "_model_name": "HBoxModel",
            "_view_module": "@jupyter-widgets/controls",
            "_model_module_version": "1.5.0",
            "_view_count": null,
            "_view_module_version": "1.5.0",
            "box_style": "",
            "layout": "IPY_MODEL_80d285feaf1541fa84c3f0f9bcca9366",
            "_model_module": "@jupyter-widgets/controls",
            "children": [
              "IPY_MODEL_3bb4374ffdd44298843bbd5452598f81",
              "IPY_MODEL_e27f5b2fc1014c40a353ae883cc2f0f1"
            ]
          }
        },
        "80d285feaf1541fa84c3f0f9bcca9366": {
          "model_module": "@jupyter-widgets/base",
          "model_name": "LayoutModel",
          "state": {
            "_view_name": "LayoutView",
            "grid_template_rows": null,
            "right": null,
            "justify_content": null,
            "_view_module": "@jupyter-widgets/base",
            "overflow": null,
            "_model_module_version": "1.2.0",
            "_view_count": null,
            "flex_flow": null,
            "width": null,
            "min_width": null,
            "border": null,
            "align_items": null,
            "bottom": null,
            "_model_module": "@jupyter-widgets/base",
            "top": null,
            "grid_column": null,
            "overflow_y": null,
            "overflow_x": null,
            "grid_auto_flow": null,
            "grid_area": null,
            "grid_template_columns": null,
            "flex": null,
            "_model_name": "LayoutModel",
            "justify_items": null,
            "grid_row": null,
            "max_height": null,
            "align_content": null,
            "visibility": null,
            "align_self": null,
            "height": null,
            "min_height": null,
            "padding": null,
            "grid_auto_rows": null,
            "grid_gap": null,
            "max_width": null,
            "order": null,
            "_view_module_version": "1.2.0",
            "grid_template_areas": null,
            "object_position": null,
            "object_fit": null,
            "grid_auto_columns": null,
            "margin": null,
            "display": null,
            "left": null
          }
        },
        "3bb4374ffdd44298843bbd5452598f81": {
          "model_module": "@jupyter-widgets/controls",
          "model_name": "FloatSliderModel",
          "state": {
            "_view_name": "FloatSliderView",
            "style": "IPY_MODEL_01354f7713cc4d689e98996fde48de4e",
            "_dom_classes": [],
            "description": "Bandwidth",
            "step": 0.1,
            "_model_name": "FloatSliderModel",
            "orientation": "horizontal",
            "max": 2,
            "_view_module": "@jupyter-widgets/controls",
            "_model_module_version": "1.5.0",
            "value": 0.6135907273413174,
            "_view_count": null,
            "disabled": false,
            "_view_module_version": "1.5.0",
            "min": 0.1,
            "continuous_update": false,
            "readout_format": ".2f",
            "description_tooltip": null,
            "readout": true,
            "_model_module": "@jupyter-widgets/controls",
            "layout": "IPY_MODEL_fc2e9aaba9224916b678a47489fbf84c"
          }
        },
        "e27f5b2fc1014c40a353ae883cc2f0f1": {
          "model_module": "@jupyter-widgets/controls",
          "model_name": "FloatTextModel",
          "state": {
            "_view_name": "FloatTextView",
            "style": "IPY_MODEL_b519c824d3604b61948ead75d1f44ef9",
            "_dom_classes": [],
            "description": "Bandwidth",
            "_model_name": "FloatTextModel",
            "_view_module": "@jupyter-widgets/controls",
            "_model_module_version": "1.5.0",
            "value": 0.6135907273413174,
            "_view_count": null,
            "disabled": false,
            "_view_module_version": "1.5.0",
            "continuous_update": false,
            "step": 0.1,
            "description_tooltip": null,
            "_model_module": "@jupyter-widgets/controls",
            "layout": "IPY_MODEL_5c4f5758dfe34422978b061fe89eccf6"
          }
        },
        "01354f7713cc4d689e98996fde48de4e": {
          "model_module": "@jupyter-widgets/controls",
          "model_name": "SliderStyleModel",
          "state": {
            "_view_name": "StyleView",
            "handle_color": null,
            "_model_name": "SliderStyleModel",
            "description_width": "",
            "_view_module": "@jupyter-widgets/base",
            "_model_module_version": "1.5.0",
            "_view_count": null,
            "_view_module_version": "1.2.0",
            "_model_module": "@jupyter-widgets/controls"
          }
        },
        "fc2e9aaba9224916b678a47489fbf84c": {
          "model_module": "@jupyter-widgets/base",
          "model_name": "LayoutModel",
          "state": {
            "_view_name": "LayoutView",
            "grid_template_rows": null,
            "right": null,
            "justify_content": null,
            "_view_module": "@jupyter-widgets/base",
            "overflow": null,
            "_model_module_version": "1.2.0",
            "_view_count": null,
            "flex_flow": null,
            "width": null,
            "min_width": null,
            "border": null,
            "align_items": null,
            "bottom": null,
            "_model_module": "@jupyter-widgets/base",
            "top": null,
            "grid_column": null,
            "overflow_y": null,
            "overflow_x": null,
            "grid_auto_flow": null,
            "grid_area": null,
            "grid_template_columns": null,
            "flex": null,
            "_model_name": "LayoutModel",
            "justify_items": null,
            "grid_row": null,
            "max_height": null,
            "align_content": null,
            "visibility": null,
            "align_self": null,
            "height": null,
            "min_height": null,
            "padding": null,
            "grid_auto_rows": null,
            "grid_gap": null,
            "max_width": null,
            "order": null,
            "_view_module_version": "1.2.0",
            "grid_template_areas": null,
            "object_position": null,
            "object_fit": null,
            "grid_auto_columns": null,
            "margin": null,
            "display": null,
            "left": null
          }
        },
        "b519c824d3604b61948ead75d1f44ef9": {
          "model_module": "@jupyter-widgets/controls",
          "model_name": "DescriptionStyleModel",
          "state": {
            "_view_name": "StyleView",
            "_model_name": "DescriptionStyleModel",
            "description_width": "",
            "_view_module": "@jupyter-widgets/base",
            "_model_module_version": "1.5.0",
            "_view_count": null,
            "_view_module_version": "1.2.0",
            "_model_module": "@jupyter-widgets/controls"
          }
        },
        "5c4f5758dfe34422978b061fe89eccf6": {
          "model_module": "@jupyter-widgets/base",
          "model_name": "LayoutModel",
          "state": {
            "_view_name": "LayoutView",
            "grid_template_rows": null,
            "right": null,
            "justify_content": null,
            "_view_module": "@jupyter-widgets/base",
            "overflow": null,
            "_model_module_version": "1.2.0",
            "_view_count": null,
            "flex_flow": null,
            "width": null,
            "min_width": null,
            "border": null,
            "align_items": null,
            "bottom": null,
            "_model_module": "@jupyter-widgets/base",
            "top": null,
            "grid_column": null,
            "overflow_y": null,
            "overflow_x": null,
            "grid_auto_flow": null,
            "grid_area": null,
            "grid_template_columns": null,
            "flex": null,
            "_model_name": "LayoutModel",
            "justify_items": null,
            "grid_row": null,
            "max_height": null,
            "align_content": null,
            "visibility": null,
            "align_self": null,
            "height": null,
            "min_height": null,
            "padding": null,
            "grid_auto_rows": null,
            "grid_gap": null,
            "max_width": null,
            "order": null,
            "_view_module_version": "1.2.0",
            "grid_template_areas": null,
            "object_position": null,
            "object_fit": null,
            "grid_auto_columns": null,
            "margin": null,
            "display": null,
            "left": null
          }
        },
        "1edcfb521d0547378ed4ec577422b366": {
          "model_module": "@jupyter-widgets/output",
          "model_name": "OutputModel",
          "state": {
            "_view_name": "OutputView",
            "msg_id": "",
            "_dom_classes": [],
            "_model_name": "OutputModel",
            "outputs": [
              {
                "output_type": "display_data",
                "metadata": {
                  "tags": []
                },
                "image/png": "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\n",
                "text/plain": "<Figure size 504x432 with 1 Axes>"
              }
            ],
            "_view_module": "@jupyter-widgets/output",
            "_model_module_version": "1.0.0",
            "_view_count": null,
            "_view_module_version": "1.0.0",
            "layout": "IPY_MODEL_999bca06e2a04592bb6f7cb7e708c50c",
            "_model_module": "@jupyter-widgets/output"
          }
        },
        "999bca06e2a04592bb6f7cb7e708c50c": {
          "model_module": "@jupyter-widgets/base",
          "model_name": "LayoutModel",
          "state": {
            "_view_name": "LayoutView",
            "grid_template_rows": null,
            "right": null,
            "justify_content": null,
            "_view_module": "@jupyter-widgets/base",
            "overflow": null,
            "_model_module_version": "1.2.0",
            "_view_count": null,
            "flex_flow": null,
            "width": null,
            "min_width": null,
            "border": null,
            "align_items": null,
            "bottom": null,
            "_model_module": "@jupyter-widgets/base",
            "top": null,
            "grid_column": null,
            "overflow_y": null,
            "overflow_x": null,
            "grid_auto_flow": null,
            "grid_area": null,
            "grid_template_columns": null,
            "flex": null,
            "_model_name": "LayoutModel",
            "justify_items": null,
            "grid_row": null,
            "max_height": null,
            "align_content": null,
            "visibility": null,
            "align_self": null,
            "height": null,
            "min_height": null,
            "padding": null,
            "grid_auto_rows": null,
            "grid_gap": null,
            "max_width": null,
            "order": null,
            "_view_module_version": "1.2.0",
            "grid_template_areas": null,
            "object_position": null,
            "object_fit": null,
            "grid_auto_columns": null,
            "margin": null,
            "display": null,
            "left": null
          }
        }
      }
    }
  },
  "cells": [
    {
      "cell_type": "markdown",
      "metadata": {
        "id": "view-in-github",
        "colab_type": "text"
      },
      "source": [
        "<a href=\"https://colab.research.google.com/github/elsa9421/Interactive-IPython-Demos/blob/main/KDE.ipynb\" target=\"_parent\"><img src=\"https://colab.research.google.com/assets/colab-badge.svg\" alt=\"Open In Colab\"/></a>"
      ]
    },
    {
      "cell_type": "markdown",
      "metadata": {
        "id": "mzsbvtYD6xHY"
      },
      "source": [
        "## 1-D Gaussian Kernel Density Estimator\n",
        "\n",
        "This notebook plots the 1-D Kernel Density Estimator(KDE) for given `N=100` data points. \n",
        "\n",
        "The free parameters of kernel density estimation are the `kernel`, which specifies the shape of the distribution placed at each point, and the `kernel bandwidth`, which controls the size of the kernel at each point tunable bandwidth.\n",
        "\n",
        "In this case, the kernel used is a `Gaussian kernel` and `bandwidth` is a tunable parameter.\n",
        "\n",
        "The choice of `bandwidth` within KDE is extremely important to finding a suitable density estimate, and is the knob that controls the bias–variance trade-off in the estimate of density: too narrow a `bandwidth` leads to a high-variance estimate (i.e., over-fitting), where the presence or absence of a single point makes a large difference. Too wide a `bandwidth` leads to a high-bias estimate (i.e., under-fitting) where the structure in the data is washed out by the wide kernel.\n"
      ]
    },
    {
      "cell_type": "code",
      "metadata": {
        "id": "pfYG0f3N4z8b",
        "colab": {
          "base_uri": "https://localhost:8080/",
          "height": 430,
          "referenced_widgets": [
            "81679fa33adf436689d021370c1d717c",
            "80d285feaf1541fa84c3f0f9bcca9366",
            "3bb4374ffdd44298843bbd5452598f81",
            "e27f5b2fc1014c40a353ae883cc2f0f1",
            "01354f7713cc4d689e98996fde48de4e",
            "fc2e9aaba9224916b678a47489fbf84c",
            "b519c824d3604b61948ead75d1f44ef9",
            "5c4f5758dfe34422978b061fe89eccf6",
            "1edcfb521d0547378ed4ec577422b366",
            "999bca06e2a04592bb6f7cb7e708c50c"
          ]
        },
        "outputId": "a4bd0993-12b0-4df9-f64a-57ec1a137ba5"
      },
      "source": [
        "# Import libraries\n",
        "\n",
        "import numpy as np\n",
        "import matplotlib\n",
        "import matplotlib.pyplot as plt\n",
        "from sklearn.neighbors import KernelDensity\n",
        "from scipy.stats import norm\n",
        "from ipywidgets import interact, interactive_output, fixed, interact_manual,interactive\n",
        "import ipywidgets as widgets\n",
        "from sklearn.model_selection import GridSearchCV\n",
        "from sklearn.model_selection import LeaveOneOut\n",
        "import seaborn as sns; sns.set()\n",
        "\n",
        "# Generating the data points\n",
        "N = 100\n",
        "np.random.seed(1)\n",
        "X = np.concatenate((np.random.normal(0, 1, int(0.3 * N)),\n",
        "                    np.random.normal(5, 1, int(0.7 * N))))[:, np.newaxis]   #(0.3*N+0.7*N,1)\n",
        "\n",
        "def plot_portfolio(X=X,bandwidth=0.5):\n",
        "  '''\n",
        "  This function that generates and plots input normal distribution along with the \n",
        "  Gaussian kernel density estimate over the same distribution.\n",
        "  \n",
        "  Input:\n",
        "  bandwidth : smoothing parameter called the bandwidth, \n",
        "              (undersmooth)if bandwidth is too small the estimate contains too many spurious data artifacts\n",
        "              (oversmooth)if bandwidth is too large the estimate obscures much of the underlying structure\n",
        "              bandwidth is considered to be optimally smoothed when its density estimate is close to the true density.\n",
        "\n",
        "  '''\n",
        "  # Plot a 1D density example\n",
        "\n",
        "\n",
        "  X_plot = np.linspace(-5, 10, 1000)[:, np.newaxis]\n",
        "\n",
        "  # Note : scipy.stats.norm(mu,sigma).pdf(x) computes the value of the pdf at point x for a given mu, sigma\n",
        "  true_dens = (0.3 * norm(0, 1).pdf(X_plot[:, 0])\n",
        "              + 0.7 * norm(5, 1).pdf(X_plot[:, 0]))\n",
        "\n",
        "  plt.figure(figsize=(7,6))\n",
        "  # Plot true distribution\n",
        "  \n",
        "  plt.fill(X_plot[:, 0], true_dens, fc='black', alpha=0.2,\n",
        "          label='Input Distribution') \n",
        "  \n",
        "  # Plot KDE for given bandwidth\n",
        "  kde = KernelDensity(kernel='gaussian', bandwidth=bandwidth).fit(X)\n",
        "\n",
        "  # Evaluate the log density model on the data.\n",
        "  log_dens = kde.score_samples(X_plot)\n",
        "  # plot the pdf\n",
        "  plt.plot(X_plot[:, 0], np.exp(log_dens), color='navy', lw=2,\n",
        "          linestyle='-', label='Gaussian Estimate')\n",
        "\n",
        "  plt.text(6.5, 0.38, \"N={0} points\".format(N))\n",
        "  plt.plot(X[:,0], np.full_like(X[:,0], -0.01), '|k', markeredgewidth=1,label='Datapoints')\n",
        "\n",
        "  plt.legend(loc='upper left')\n",
        "  #plt.plot(X[:, 0], -0.005 - 0.01 * np.random.random(X.shape[0]), '+k')\n",
        "\n",
        "\n",
        "  plt.xlim(-3.5, 9.5)\n",
        "  plt.ylim(-0.02, 0.4)\n",
        "  plt.show()\n",
        "\n",
        "\n",
        "\n",
        "\n",
        "\n",
        "bandwidths = 10 ** np.linspace(-1, 1, 100)\n",
        "grid = GridSearchCV(KernelDensity(kernel='gaussian'),\n",
        "                    {'bandwidth': bandwidths}).fit(X)\n",
        "bandwidth=grid.best_params_['bandwidth']\n",
        "\n",
        "\n",
        "print(\"Initial bandwidth=\",bandwidth)\n",
        "\n",
        "bandwidth_slider=widgets.FloatSlider(value=bandwidth,\n",
        "                                 min=0.1,\n",
        "                                 max=2,\n",
        "                                 step=.1,\n",
        "                                 description='Bandwidth',\n",
        "                                 continuous_update=False)\n",
        "\n",
        "bandwidth_text=widgets.FloatText(value=bandwidth,\n",
        "                                 min=0.1,\n",
        "                                 max=2,\n",
        "                                 step=.1,\n",
        "                                 description='Bandwidth',\n",
        "                                 continuous_update=False)\n",
        "\n",
        "widgets.link((bandwidth_slider, 'value'), (bandwidth_text, 'value'))\n",
        "bandwidth_widget=widgets.HBox([bandwidth_slider,bandwidth_text])\n",
        "\n",
        "out=interactive_output(plot_portfolio,{\"bandwidth\":bandwidth_text})\n",
        "display(bandwidth_widget,out)"
      ],
      "execution_count": null,
      "outputs": [
        {
          "output_type": "stream",
          "text": [
            "Initial bandwidth= 0.6135907273413174\n"
          ],
          "name": "stdout"
        },
        {
          "output_type": "display_data",
          "data": {
            "application/vnd.jupyter.widget-view+json": {
              "model_id": "81679fa33adf436689d021370c1d717c",
              "version_minor": 0,
              "version_major": 2
            },
            "text/plain": [
              "HBox(children=(FloatSlider(value=0.6135907273413174, continuous_update=False, description='Bandwidth', max=2.0…"
            ]
          },
          "metadata": {
            "tags": []
          }
        },
        {
          "output_type": "display_data",
          "data": {
            "application/vnd.jupyter.widget-view+json": {
              "model_id": "1edcfb521d0547378ed4ec577422b366",
              "version_minor": 0,
              "version_major": 2
            },
            "text/plain": [
              "Output()"
            ]
          },
          "metadata": {
            "tags": []
          }
        }
      ]
    }
  ]
}
{
  "nbformat": 4,
  "nbformat_minor": 0,
  "metadata": {
    "colab": {
      "name": "MAB.ipynb",
      "provenance": [],
      "collapsed_sections": [],
      "include_colab_link": true
    },
    "kernelspec": {
      "name": "python3",
      "display_name": "Python 3"
    },
    "widgets": {
      "application/vnd.jupyter.widget-state+json": {
        "4cbbe799f1cf4540a4527ece8ed0ae0e": {
          "model_module": "@jupyter-widgets/controls",
          "model_name": "VBoxModel",
          "state": {
            "_view_name": "VBoxView",
            "_dom_classes": [
              "widget-interact"
            ],
            "_model_name": "VBoxModel",
            "_view_module": "@jupyter-widgets/controls",
            "_model_module_version": "1.5.0",
            "_view_count": null,
            "_view_module_version": "1.5.0",
            "box_style": "",
            "layout": "IPY_MODEL_a17723c1c9724c52a67e31b44e807cb7",
            "_model_module": "@jupyter-widgets/controls",
            "children": [
              "IPY_MODEL_613a2316708942cc8208111446ae0296",
              "IPY_MODEL_a289cb50a908495b84bcc32cacd8518a"
            ]
          }
        },
        "a17723c1c9724c52a67e31b44e807cb7": {
          "model_module": "@jupyter-widgets/base",
          "model_name": "LayoutModel",
          "state": {
            "_view_name": "LayoutView",
            "grid_template_rows": null,
            "right": null,
            "justify_content": null,
            "_view_module": "@jupyter-widgets/base",
            "overflow": null,
            "_model_module_version": "1.2.0",
            "_view_count": null,
            "flex_flow": null,
            "width": null,
            "min_width": null,
            "border": null,
            "align_items": null,
            "bottom": null,
            "_model_module": "@jupyter-widgets/base",
            "top": null,
            "grid_column": null,
            "overflow_y": null,
            "overflow_x": null,
            "grid_auto_flow": null,
            "grid_area": null,
            "grid_template_columns": null,
            "flex": null,
            "_model_name": "LayoutModel",
            "justify_items": null,
            "grid_row": null,
            "max_height": null,
            "align_content": null,
            "visibility": null,
            "align_self": null,
            "height": null,
            "min_height": null,
            "padding": null,
            "grid_auto_rows": null,
            "grid_gap": null,
            "max_width": null,
            "order": null,
            "_view_module_version": "1.2.0",
            "grid_template_areas": null,
            "object_position": null,
            "object_fit": null,
            "grid_auto_columns": null,
            "margin": null,
            "display": null,
            "left": null
          }
        },
        "613a2316708942cc8208111446ae0296": {
          "model_module": "@jupyter-widgets/controls",
          "model_name": "FloatSliderModel",
          "state": {
            "_view_name": "FloatSliderView",
            "style": "IPY_MODEL_0cf5dc21dcc94e569975dc6bfd359452",
            "_dom_classes": [],
            "description": "c",
            "step": 0.1,
            "_model_name": "FloatSliderModel",
            "orientation": "horizontal",
            "max": 1,
            "_view_module": "@jupyter-widgets/controls",
            "_model_module_version": "1.5.0",
            "value": 1,
            "_view_count": null,
            "disabled": false,
            "_view_module_version": "1.5.0",
            "min": 0.1,
            "continuous_update": false,
            "readout_format": ".2f",
            "description_tooltip": null,
            "readout": true,
            "_model_module": "@jupyter-widgets/controls",
            "layout": "IPY_MODEL_12c9001f1baa44d5b2bc841e36a30853"
          }
        },
        "a289cb50a908495b84bcc32cacd8518a": {
          "model_module": "@jupyter-widgets/output",
          "model_name": "OutputModel",
          "state": {
            "_view_name": "OutputView",
            "msg_id": "",
            "_dom_classes": [],
            "_model_name": "OutputModel",
            "outputs": [
              {
                "output_type": "display_data",
                "metadata": {
                  "tags": []
                },
                "image/png": "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\n",
                "text/plain": "<Figure size 576x576 with 1 Axes>"
              }
            ],
            "_view_module": "@jupyter-widgets/output",
            "_model_module_version": "1.0.0",
            "_view_count": null,
            "_view_module_version": "1.0.0",
            "layout": "IPY_MODEL_8023df5444b84c06872408416bf89604",
            "_model_module": "@jupyter-widgets/output"
          }
        },
        "0cf5dc21dcc94e569975dc6bfd359452": {
          "model_module": "@jupyter-widgets/controls",
          "model_name": "SliderStyleModel",
          "state": {
            "_view_name": "StyleView",
            "handle_color": null,
            "_model_name": "SliderStyleModel",
            "description_width": "",
            "_view_module": "@jupyter-widgets/base",
            "_model_module_version": "1.5.0",
            "_view_count": null,
            "_view_module_version": "1.2.0",
            "_model_module": "@jupyter-widgets/controls"
          }
        },
        "12c9001f1baa44d5b2bc841e36a30853": {
          "model_module": "@jupyter-widgets/base",
          "model_name": "LayoutModel",
          "state": {
            "_view_name": "LayoutView",
            "grid_template_rows": null,
            "right": null,
            "justify_content": null,
            "_view_module": "@jupyter-widgets/base",
            "overflow": null,
            "_model_module_version": "1.2.0",
            "_view_count": null,
            "flex_flow": null,
            "width": null,
            "min_width": null,
            "border": null,
            "align_items": null,
            "bottom": null,
            "_model_module": "@jupyter-widgets/base",
            "top": null,
            "grid_column": null,
            "overflow_y": null,
            "overflow_x": null,
            "grid_auto_flow": null,
            "grid_area": null,
            "grid_template_columns": null,
            "flex": null,
            "_model_name": "LayoutModel",
            "justify_items": null,
            "grid_row": null,
            "max_height": null,
            "align_content": null,
            "visibility": null,
            "align_self": null,
            "height": null,
            "min_height": null,
            "padding": null,
            "grid_auto_rows": null,
            "grid_gap": null,
            "max_width": null,
            "order": null,
            "_view_module_version": "1.2.0",
            "grid_template_areas": null,
            "object_position": null,
            "object_fit": null,
            "grid_auto_columns": null,
            "margin": null,
            "display": null,
            "left": null
          }
        },
        "8023df5444b84c06872408416bf89604": {
          "model_module": "@jupyter-widgets/base",
          "model_name": "LayoutModel",
          "state": {
            "_view_name": "LayoutView",
            "grid_template_rows": null,
            "right": null,
            "justify_content": null,
            "_view_module": "@jupyter-widgets/base",
            "overflow": null,
            "_model_module_version": "1.2.0",
            "_view_count": null,
            "flex_flow": null,
            "width": null,
            "min_width": null,
            "border": null,
            "align_items": null,
            "bottom": null,
            "_model_module": "@jupyter-widgets/base",
            "top": null,
            "grid_column": null,
            "overflow_y": null,
            "overflow_x": null,
            "grid_auto_flow": null,
            "grid_area": null,
            "grid_template_columns": null,
            "flex": null,
            "_model_name": "LayoutModel",
            "justify_items": null,
            "grid_row": null,
            "max_height": null,
            "align_content": null,
            "visibility": null,
            "align_self": null,
            "height": null,
            "min_height": null,
            "padding": null,
            "grid_auto_rows": null,
            "grid_gap": null,
            "max_width": null,
            "order": null,
            "_view_module_version": "1.2.0",
            "grid_template_areas": null,
            "object_position": null,
            "object_fit": null,
            "grid_auto_columns": null,
            "margin": null,
            "display": null,
            "left": null
          }
        },
        "96d5951b481e4eda9e2f63a1b714437d": {
          "model_module": "@jupyter-widgets/controls",
          "model_name": "HBoxModel",
          "state": {
            "_view_name": "HBoxView",
            "_dom_classes": [],
            "_model_name": "HBoxModel",
            "_view_module": "@jupyter-widgets/controls",
            "_model_module_version": "1.5.0",
            "_view_count": null,
            "_view_module_version": "1.5.0",
            "box_style": "",
            "layout": "IPY_MODEL_8825b9dd2fe04a4baaadfe20815c0812",
            "_model_module": "@jupyter-widgets/controls",
            "children": [
              "IPY_MODEL_d467ecc7681a4d53b0622fb632fa7632",
              "IPY_MODEL_ca6a97005f104380b5430508640a133b"
            ]
          }
        },
        "8825b9dd2fe04a4baaadfe20815c0812": {
          "model_module": "@jupyter-widgets/base",
          "model_name": "LayoutModel",
          "state": {
            "_view_name": "LayoutView",
            "grid_template_rows": null,
            "right": null,
            "justify_content": null,
            "_view_module": "@jupyter-widgets/base",
            "overflow": null,
            "_model_module_version": "1.2.0",
            "_view_count": null,
            "flex_flow": null,
            "width": null,
            "min_width": null,
            "border": null,
            "align_items": null,
            "bottom": null,
            "_model_module": "@jupyter-widgets/base",
            "top": null,
            "grid_column": null,
            "overflow_y": null,
            "overflow_x": null,
            "grid_auto_flow": null,
            "grid_area": null,
            "grid_template_columns": null,
            "flex": null,
            "_model_name": "LayoutModel",
            "justify_items": null,
            "grid_row": null,
            "max_height": null,
            "align_content": null,
            "visibility": null,
            "align_self": null,
            "height": null,
            "min_height": null,
            "padding": null,
            "grid_auto_rows": null,
            "grid_gap": null,
            "max_width": null,
            "order": null,
            "_view_module_version": "1.2.0",
            "grid_template_areas": null,
            "object_position": null,
            "object_fit": null,
            "grid_auto_columns": null,
            "margin": null,
            "display": null,
            "left": null
          }
        },
        "d467ecc7681a4d53b0622fb632fa7632": {
          "model_module": "@jupyter-widgets/controls",
          "model_name": "ButtonModel",
          "state": {
            "_view_name": "ButtonView",
            "style": "IPY_MODEL_244e00967931419998ea1c8d4da54403",
            "_dom_classes": [],
            "description": "Next Trial",
            "_model_name": "ButtonModel",
            "button_style": "",
            "_view_module": "@jupyter-widgets/controls",
            "_model_module_version": "1.5.0",
            "tooltip": "",
            "_view_count": null,
            "disabled": false,
            "_view_module_version": "1.5.0",
            "layout": "IPY_MODEL_4f10d8615e674da39b9c345dcc363c5b",
            "_model_module": "@jupyter-widgets/controls",
            "icon": ""
          }
        },
        "ca6a97005f104380b5430508640a133b": {
          "model_module": "@jupyter-widgets/controls",
          "model_name": "FloatSliderModel",
          "state": {
            "_view_name": "FloatSliderView",
            "style": "IPY_MODEL_f8833fb96c864ed1a4a5feb81f828479",
            "_dom_classes": [],
            "description": "c",
            "step": 0.1,
            "_model_name": "FloatSliderModel",
            "orientation": "horizontal",
            "max": 1,
            "_view_module": "@jupyter-widgets/controls",
            "_model_module_version": "1.5.0",
            "value": 1,
            "_view_count": null,
            "disabled": false,
            "_view_module_version": "1.5.0",
            "min": 0.1,
            "continuous_update": false,
            "readout_format": ".2f",
            "description_tooltip": null,
            "readout": true,
            "_model_module": "@jupyter-widgets/controls",
            "layout": "IPY_MODEL_74af6a991ba3443383720a8c34c4ac33"
          }
        },
        "244e00967931419998ea1c8d4da54403": {
          "model_module": "@jupyter-widgets/controls",
          "model_name": "ButtonStyleModel",
          "state": {
            "_view_name": "StyleView",
            "_model_name": "ButtonStyleModel",
            "_view_module": "@jupyter-widgets/base",
            "_model_module_version": "1.5.0",
            "_view_count": null,
            "button_color": null,
            "font_weight": "",
            "_view_module_version": "1.2.0",
            "_model_module": "@jupyter-widgets/controls"
          }
        },
        "4f10d8615e674da39b9c345dcc363c5b": {
          "model_module": "@jupyter-widgets/base",
          "model_name": "LayoutModel",
          "state": {
            "_view_name": "LayoutView",
            "grid_template_rows": null,
            "right": null,
            "justify_content": null,
            "_view_module": "@jupyter-widgets/base",
            "overflow": null,
            "_model_module_version": "1.2.0",
            "_view_count": null,
            "flex_flow": null,
            "width": null,
            "min_width": null,
            "border": null,
            "align_items": null,
            "bottom": null,
            "_model_module": "@jupyter-widgets/base",
            "top": null,
            "grid_column": null,
            "overflow_y": null,
            "overflow_x": null,
            "grid_auto_flow": null,
            "grid_area": null,
            "grid_template_columns": null,
            "flex": null,
            "_model_name": "LayoutModel",
            "justify_items": null,
            "grid_row": null,
            "max_height": null,
            "align_content": null,
            "visibility": null,
            "align_self": null,
            "height": null,
            "min_height": null,
            "padding": null,
            "grid_auto_rows": null,
            "grid_gap": null,
            "max_width": null,
            "order": null,
            "_view_module_version": "1.2.0",
            "grid_template_areas": null,
            "object_position": null,
            "object_fit": null,
            "grid_auto_columns": null,
            "margin": null,
            "display": null,
            "left": null
          }
        },
        "f8833fb96c864ed1a4a5feb81f828479": {
          "model_module": "@jupyter-widgets/controls",
          "model_name": "SliderStyleModel",
          "state": {
            "_view_name": "StyleView",
            "handle_color": null,
            "_model_name": "SliderStyleModel",
            "description_width": "",
            "_view_module": "@jupyter-widgets/base",
            "_model_module_version": "1.5.0",
            "_view_count": null,
            "_view_module_version": "1.2.0",
            "_model_module": "@jupyter-widgets/controls"
          }
        },
        "74af6a991ba3443383720a8c34c4ac33": {
          "model_module": "@jupyter-widgets/base",
          "model_name": "LayoutModel",
          "state": {
            "_view_name": "LayoutView",
            "grid_template_rows": null,
            "right": null,
            "justify_content": null,
            "_view_module": "@jupyter-widgets/base",
            "overflow": null,
            "_model_module_version": "1.2.0",
            "_view_count": null,
            "flex_flow": null,
            "width": null,
            "min_width": null,
            "border": null,
            "align_items": null,
            "bottom": null,
            "_model_module": "@jupyter-widgets/base",
            "top": null,
            "grid_column": null,
            "overflow_y": null,
            "overflow_x": null,
            "grid_auto_flow": null,
            "grid_area": null,
            "grid_template_columns": null,
            "flex": null,
            "_model_name": "LayoutModel",
            "justify_items": null,
            "grid_row": null,
            "max_height": null,
            "align_content": null,
            "visibility": null,
            "align_self": null,
            "height": null,
            "min_height": null,
            "padding": null,
            "grid_auto_rows": null,
            "grid_gap": null,
            "max_width": null,
            "order": null,
            "_view_module_version": "1.2.0",
            "grid_template_areas": null,
            "object_position": null,
            "object_fit": null,
            "grid_auto_columns": null,
            "margin": null,
            "display": null,
            "left": null
          }
        },
        "6f82669965674c03ae9161cd2ce18c70": {
          "model_module": "@jupyter-widgets/controls",
          "model_name": "HBoxModel",
          "state": {
            "_view_name": "HBoxView",
            "_dom_classes": [],
            "_model_name": "HBoxModel",
            "_view_module": "@jupyter-widgets/controls",
            "_model_module_version": "1.5.0",
            "_view_count": null,
            "_view_module_version": "1.5.0",
            "box_style": "",
            "layout": "IPY_MODEL_04cabc2476f44df9a98700661ade23a7",
            "_model_module": "@jupyter-widgets/controls",
            "children": [
              "IPY_MODEL_cb7291fbdd37401d8d6b2833f52a3ecb",
              "IPY_MODEL_96a09fe9a9594efe874de721ad932ca6"
            ]
          }
        },
        "04cabc2476f44df9a98700661ade23a7": {
          "model_module": "@jupyter-widgets/base",
          "model_name": "LayoutModel",
          "state": {
            "_view_name": "LayoutView",
            "grid_template_rows": null,
            "right": null,
            "justify_content": null,
            "_view_module": "@jupyter-widgets/base",
            "overflow": null,
            "_model_module_version": "1.2.0",
            "_view_count": null,
            "flex_flow": null,
            "width": null,
            "min_width": null,
            "border": null,
            "align_items": null,
            "bottom": null,
            "_model_module": "@jupyter-widgets/base",
            "top": null,
            "grid_column": null,
            "overflow_y": null,
            "overflow_x": null,
            "grid_auto_flow": null,
            "grid_area": null,
            "grid_template_columns": null,
            "flex": null,
            "_model_name": "LayoutModel",
            "justify_items": null,
            "grid_row": null,
            "max_height": null,
            "align_content": null,
            "visibility": null,
            "align_self": null,
            "height": null,
            "min_height": null,
            "padding": null,
            "grid_auto_rows": null,
            "grid_gap": null,
            "max_width": null,
            "order": null,
            "_view_module_version": "1.2.0",
            "grid_template_areas": null,
            "object_position": null,
            "object_fit": null,
            "grid_auto_columns": null,
            "margin": null,
            "display": null,
            "left": null
          }
        },
        "cb7291fbdd37401d8d6b2833f52a3ecb": {
          "model_module": "@jupyter-widgets/controls",
          "model_name": "FloatSliderModel",
          "state": {
            "_view_name": "FloatSliderView",
            "style": "IPY_MODEL_1e0ab7203fc942f587c2a0bb51d11cb2",
            "_dom_classes": [],
            "description": "c",
            "step": 0.1,
            "_model_name": "FloatSliderModel",
            "orientation": "horizontal",
            "max": 1,
            "_view_module": "@jupyter-widgets/controls",
            "_model_module_version": "1.5.0",
            "value": 0.6,
            "_view_count": null,
            "disabled": false,
            "_view_module_version": "1.5.0",
            "min": 0.1,
            "continuous_update": false,
            "readout_format": ".2f",
            "description_tooltip": null,
            "readout": true,
            "_model_module": "@jupyter-widgets/controls",
            "layout": "IPY_MODEL_c4786bedc7324228b38c5399a994e3ac"
          }
        },
        "96a09fe9a9594efe874de721ad932ca6": {
          "model_module": "@jupyter-widgets/controls",
          "model_name": "IntSliderModel",
          "state": {
            "_view_name": "IntSliderView",
            "style": "IPY_MODEL_5fc580e7e6a84291adbbc38a212ff108",
            "_dom_classes": [],
            "description": "iters",
            "step": 1000,
            "_model_name": "IntSliderModel",
            "orientation": "horizontal",
            "max": 5000,
            "_view_module": "@jupyter-widgets/controls",
            "_model_module_version": "1.5.0",
            "value": 1000,
            "_view_count": null,
            "disabled": false,
            "_view_module_version": "1.5.0",
            "min": 1000,
            "continuous_update": false,
            "readout_format": "d",
            "description_tooltip": null,
            "readout": true,
            "_model_module": "@jupyter-widgets/controls",
            "layout": "IPY_MODEL_8865d9447a004bca8c4789f2448602c2"
          }
        },
        "1e0ab7203fc942f587c2a0bb51d11cb2": {
          "model_module": "@jupyter-widgets/controls",
          "model_name": "SliderStyleModel",
          "state": {
            "_view_name": "StyleView",
            "handle_color": null,
            "_model_name": "SliderStyleModel",
            "description_width": "",
            "_view_module": "@jupyter-widgets/base",
            "_model_module_version": "1.5.0",
            "_view_count": null,
            "_view_module_version": "1.2.0",
            "_model_module": "@jupyter-widgets/controls"
          }
        },
        "c4786bedc7324228b38c5399a994e3ac": {
          "model_module": "@jupyter-widgets/base",
          "model_name": "LayoutModel",
          "state": {
            "_view_name": "LayoutView",
            "grid_template_rows": null,
            "right": null,
            "justify_content": null,
            "_view_module": "@jupyter-widgets/base",
            "overflow": null,
            "_model_module_version": "1.2.0",
            "_view_count": null,
            "flex_flow": null,
            "width": null,
            "min_width": null,
            "border": null,
            "align_items": null,
            "bottom": null,
            "_model_module": "@jupyter-widgets/base",
            "top": null,
            "grid_column": null,
            "overflow_y": null,
            "overflow_x": null,
            "grid_auto_flow": null,
            "grid_area": null,
            "grid_template_columns": null,
            "flex": null,
            "_model_name": "LayoutModel",
            "justify_items": null,
            "grid_row": null,
            "max_height": null,
            "align_content": null,
            "visibility": null,
            "align_self": null,
            "height": null,
            "min_height": null,
            "padding": null,
            "grid_auto_rows": null,
            "grid_gap": null,
            "max_width": null,
            "order": null,
            "_view_module_version": "1.2.0",
            "grid_template_areas": null,
            "object_position": null,
            "object_fit": null,
            "grid_auto_columns": null,
            "margin": null,
            "display": null,
            "left": null
          }
        },
        "5fc580e7e6a84291adbbc38a212ff108": {
          "model_module": "@jupyter-widgets/controls",
          "model_name": "SliderStyleModel",
          "state": {
            "_view_name": "StyleView",
            "handle_color": null,
            "_model_name": "SliderStyleModel",
            "description_width": "",
            "_view_module": "@jupyter-widgets/base",
            "_model_module_version": "1.5.0",
            "_view_count": null,
            "_view_module_version": "1.2.0",
            "_model_module": "@jupyter-widgets/controls"
          }
        },
        "8865d9447a004bca8c4789f2448602c2": {
          "model_module": "@jupyter-widgets/base",
          "model_name": "LayoutModel",
          "state": {
            "_view_name": "LayoutView",
            "grid_template_rows": null,
            "right": null,
            "justify_content": null,
            "_view_module": "@jupyter-widgets/base",
            "overflow": null,
            "_model_module_version": "1.2.0",
            "_view_count": null,
            "flex_flow": null,
            "width": null,
            "min_width": null,
            "border": null,
            "align_items": null,
            "bottom": null,
            "_model_module": "@jupyter-widgets/base",
            "top": null,
            "grid_column": null,
            "overflow_y": null,
            "overflow_x": null,
            "grid_auto_flow": null,
            "grid_area": null,
            "grid_template_columns": null,
            "flex": null,
            "_model_name": "LayoutModel",
            "justify_items": null,
            "grid_row": null,
            "max_height": null,
            "align_content": null,
            "visibility": null,
            "align_self": null,
            "height": null,
            "min_height": null,
            "padding": null,
            "grid_auto_rows": null,
            "grid_gap": null,
            "max_width": null,
            "order": null,
            "_view_module_version": "1.2.0",
            "grid_template_areas": null,
            "object_position": null,
            "object_fit": null,
            "grid_auto_columns": null,
            "margin": null,
            "display": null,
            "left": null
          }
        }
      }
    }
  },
  "cells": [
    {
      "cell_type": "markdown",
      "metadata": {
        "id": "view-in-github",
        "colab_type": "text"
      },
      "source": [
        "<a href=\"https://colab.research.google.com/github/elsa9421/Interactive-IPython-Demos/blob/main/MAB.ipynb\" target=\"_parent\"><img src=\"https://colab.research.google.com/assets/colab-badge.svg\" alt=\"Open In Colab\"/></a>"
      ]
    },
    {
      "cell_type": "markdown",
      "metadata": {
        "id": "GIm6Gs-K3ipJ"
      },
      "source": [
        "This notebook demonstrates Multiarmed bandits- UCB1 Algorithm"
      ]
    },
    {
      "cell_type": "markdown",
      "metadata": {
        "id": "3-aZqi-WIYtE"
      },
      "source": [
        "## UCB1 Algorithm Implementation :\n",
        "\n",
        "This is a variant of the UCB algorithm that is implemented in this notebook.\n",
        "\n",
        "### Equation :-\n",
        "\n",
        "$ A_n = argmax_a ( Q_n(a) +c \\sqrt{{\\dfrac{2ln(n)}{k_n(a)}} ) }$\n",
        "\n",
        "- $n$- total number of times the arm has been pulled so far.\n",
        "- $Q_n(a)$ - current estimate of the value of a given slot machine $a$ at time $'n'$\n",
        "- $\\dfrac{log(n)}{k_n(a)}$- $log$ of the total number of times the slot machines have been tried ($n$) divided by the number of times we've tried each slot machine $a$ ($k_n$)\n",
        "- We choose our next slot machine by selecting whichever bandit gives the largest value of $A_n$ at each step n.\n",
        "- c : constant; usually = 1 for UCB1 algorithm. In this notebook this is a tunable parameter\n",
        "which is multiplied to the variance estimate \n",
        "- The square root term is an estimate of the variance of each action $a$ , If we haven’t chosen a bandit yet, the variance is infinite (we’d be dividing by 0) meaning that’s going to be our next choice. This forces the algorithm to explore those unknown values quickly.\n",
        "\n",
        "\n",
        "### References and Links:\n",
        "1) [Understanding UCB1 Algorithm](https://docs.microsoft.com/en-us/archive/msdn-magazine/2019/august/test-run-the-ucb1-algorithm-for-multi-armed-bandit-problems#understanding-the-ucb1-algorithm)\n",
        "\n",
        "2) [An Interesting Demo](https://cse442-17f.github.io/LinUCB/)\n",
        "\n",
        "3)[Multi-Armed Bandits: UCB Algorithm](https://towardsdatascience.com/multi-armed-bandits-ucb-algorithm-fa7861417d8c)\n",
        "\n",
        "4) [Paper : Finite-time Analysis of the Multiarmed Bandit\n",
        "Problem](https://link.springer.com/content/pdf/10.1023/A:1013689704352.pdf)\n",
        "\n"
      ]
    },
    {
      "cell_type": "markdown",
      "metadata": {
        "id": "FBa3p8eGOPPn"
      },
      "source": [
        "## Initialization:\n",
        "- $k_n(a)$ =1 to ensure we don't get `NaN` values in Python\n",
        "- Note that $Q^*(a)$ is the true mean of each of the one armed bandits, and it has been initialised randomly with values between 0 and 1 \n",
        "using `mu = np.random.uniform(0, 1, k)`\n"
      ]
    },
    {
      "cell_type": "code",
      "metadata": {
        "id": "2FkaNNAesNtO"
      },
      "source": [
        "# import modules \n",
        "import numpy as np \n",
        "import matplotlib.pyplot as plt \n",
        "import pandas as pd\n",
        "import random\n",
        "from IPython import display\n",
        "import ipywidgets as widgets\n",
        "\n",
        "\n",
        "class ucb_bandit:\n",
        "    '''\n",
        "    Upper Confidence Bound Bandit\n",
        "    \n",
        "    Inputs \n",
        "    ============================================\n",
        "    k: number of arms (int)\n",
        "    mu: set the average rewards for each of the k-arms.\n",
        "\n",
        "    '''\n",
        "    def __init__(self, k, c=1,mu='random'):\n",
        "        # Number of arms\n",
        "        self.k = k\n",
        "        # Step count\n",
        "        self.n = 1\n",
        "        # Step count for each arm\n",
        "        self.k_n = np.ones(k)   #arm counts\n",
        "\n",
        "        self.c=c\n",
        "\n",
        "        self.cum_reward=np.zeros(k)\n",
        "        # Total mean reward\n",
        "        self.mean_reward = 0\n",
        "        self.reward = np.zeros(iters)   \n",
        "        # Mean reward for each arm\n",
        "        self.avg_k_reward = np.zeros(k)\n",
        "\n",
        "        self.mu = np.random.uniform(0, 1, k)  # probability of winning (p)\n",
        "        #self.mu= np.array([0.3,0.6,0.8])\n",
        "        self.UCB=np.zeros(k)\n",
        "\n",
        "      \n",
        "    def pull(self):\n",
        "\n",
        "      self.UCB=self.c*np.sqrt( (2*np.log(self.n)) / self.k_n)\n",
        "\n",
        "      a = np.argmax(self.avg_k_reward + self.c * np.sqrt( \n",
        "              (2*np.log(self.n)) / self.k_n))\n",
        "      r=random.random()\n",
        "      if r<=self.mu[a]:\n",
        "        # win\n",
        "        self.cum_reward[a]+=1\n",
        "        win=\"Wins\"\n",
        "\n",
        "      else:\n",
        "        #lose\n",
        "        self.cum_reward[a]+=0\n",
        "        win=\"Loses\"\n",
        " \n",
        "      \n",
        "      # Update counts\n",
        "      self.n += 1\n",
        "      self.k_n[a] += 1\n",
        "      \n",
        "      # Update total\n",
        "      self.mean_reward = np.sum(self.cum_reward)/self.n\n",
        "      self.avg_k_reward=np.divide(self.cum_reward,self.k_n)\n",
        "\n",
        "      \n",
        "      return a,win\n",
        "        \n",
        "\n",
        "        \n",
        "    def run(self):\n",
        "\n",
        "      decision,win=self.pull()\n",
        "\n",
        "      return decision,win\n",
        "            \n",
        "    def reset(self, c, mu='random'):\n",
        "        # Resets results while keeping settings\n",
        "        self.n = 1\n",
        "        self.k_n = np.ones(self.k)\n",
        "        self.mean_reward = 0\n",
        "        self.reward = np.zeros(iters)\n",
        "        self.avg_k_reward = np.zeros(self.k)\n",
        "        self.cum_reward=np.zeros(k)\n",
        "        self.c=c\n",
        " \n",
        "\n",
        "def plot_portfolio(trialno,decision=0,win=\"Lose\"):\n",
        "  #Plot\n",
        "\n",
        "  plt.figure(figsize=(8,8))\n",
        "  fig=plt.gcf()\n",
        "  fig.set_facecolor('white')\n",
        "  arms=np.arange(1,k+1)\n",
        "  plt.xticks(np.arange(0, k+1, step=1))  # Set label locations.\n",
        "  plt.yticks(np.arange(-2.2, 2.2, step=0.4))\n",
        "  plt.xlim(0,k+1)\n",
        "  plt.ylim(-2,2)\n",
        "  # Actual mean - q*(a)\n",
        "  plt.scatter(arms,ucb.mu,marker='x',s=100,color='red',label=\"$Q*(a)$\",clip_on=False)\n",
        "  # Avg mean so far   \n",
        "  plt.scatter(arms,ucb.avg_k_reward,marker='x',s=100,color='green',label='Q_{n}(a)'.format(n=trialno),clip_on=False)\n",
        "  if trialno !=0:\n",
        "    ymin,_=plt.ylim()\n",
        "    plt.scatter(arms[decision],ymin , c='y', marker=\"*\", s=150, label=\"Selected arm\",clip_on=False)\n",
        "    plt.gca().text(decision+1-0.2, -1.85, 'Arm {} {}'.format(decision+1,win), style='italic',bbox={'facecolor': 'red', 'alpha': 0.5})\n",
        "    plt.scatter(arms, ucb.avg_k_reward+ucb.UCB, c='black', marker=\"_\")\n",
        "    plt.scatter(arms, ucb.avg_k_reward-ucb.UCB, c='black', marker=\"_\")\n",
        "\n",
        "    for i in np.arange(1,k):\n",
        "      plt.vlines(x=i, ymin=ucb.avg_k_reward[i-1]-ucb.UCB[i-1], ymax=ucb.avg_k_reward[i-1]+ucb.UCB[i-1],color='black',linestyle='--')\n",
        "    plt.vlines(x=i+1, ymin=ucb.avg_k_reward[i+1-1]-ucb.UCB[i+1-1], ymax=ucb.avg_k_reward[i+1-1]+ucb.UCB[i+1-1],color='black',linestyle='--',label=\"confidence bound\")\n",
        "\n",
        "    plt.title(\"Trial no={}\".format(trialno))\n",
        "    \n",
        "  else:\n",
        "    plt.title(\"Initial state\".format(trialno))\n",
        "\n",
        "\n",
        "\n",
        "  for i in  np.arange(1,k+1):\n",
        "    plt.gca().text(i-0.2, -1.5, '$k_{}={}$'.format(i,ucb.k_n[i-1]), style='italic',bbox={'facecolor': 'red', 'alpha': 0.5})\n",
        "\n",
        "  plt.gca().set_aspect('equal', adjustable='box')\n",
        "  plt.gca().legend(loc='center left', bbox_to_anchor=(1, 0.5))\n",
        "  plt.ylabel(\"Expected Reward\")\n",
        "  plt.xlabel(\"Arms\")\n",
        "\n",
        "\n",
        "\n"
      ],
      "execution_count": null,
      "outputs": []
    },
    {
      "cell_type": "code",
      "metadata": {
        "id": "eN2OPlpuyCSR"
      },
      "source": [
        "k=5\n",
        "iters=10\n",
        "# Initialize bandits\n",
        "ucb = ucb_bandit(k)\n",
        "\n",
        "\n",
        "c_slider=widgets.FloatSlider(value=1,\n",
        "                                 min=0.1,\n",
        "                                 max=1,\n",
        "                                 step=.1,\n",
        "                                 description='c',\n",
        "                                 continuous_update=False)\n",
        "\n",
        "\n",
        "c_slider2=widgets.FloatSlider(value=1,\n",
        "                                 min=0.1,\n",
        "                                 max=1,\n",
        "                                 step=.1,\n",
        "                                 description='c',\n",
        "                                 continuous_update=False)\n",
        "\n"
      ],
      "execution_count": null,
      "outputs": []
    },
    {
      "cell_type": "markdown",
      "metadata": {
        "id": "HG_opGfZgQbg"
      },
      "source": [
        "## Animation\n",
        "\n",
        "Increase `iters` to increase number of trials"
      ]
    },
    {
      "cell_type": "code",
      "metadata": {
        "id": "m7QDH_4vkUS1",
        "colab": {
          "base_uri": "https://localhost:8080/",
          "height": 424,
          "referenced_widgets": [
            "4cbbe799f1cf4540a4527ece8ed0ae0e",
            "a17723c1c9724c52a67e31b44e807cb7",
            "613a2316708942cc8208111446ae0296",
            "a289cb50a908495b84bcc32cacd8518a",
            "0cf5dc21dcc94e569975dc6bfd359452",
            "12c9001f1baa44d5b2bc841e36a30853",
            "8023df5444b84c06872408416bf89604"
          ]
        },
        "outputId": "44e4cea8-e471-4c7c-a9ca-8f94dcd7fd86"
      },
      "source": [
        "\n",
        "\n",
        "def plot_interact_animate(c):\n",
        "\n",
        "  ucb.reset(c=c)\n",
        "  decision=0\n",
        "  plot_portfolio(trialno=0)\n",
        "  print(\"ucb.mu\",ucb.mu)\n",
        "  for i in range(iters):\n",
        "        # Run experiments\n",
        "      decision,win=ucb.run()\n",
        "  # #  avg_r[i]=ucb.mean_reward\n",
        "      plt.close()\n",
        "      plot_portfolio(trialno=(i+1),decision=decision,win=win)\n",
        "      display.clear_output(wait=True)\n",
        "      plt.pause(0.2)\n",
        "\n",
        "\n",
        "widgets.interact(plot_interact_animate,c=c_slider)\n"
      ],
      "execution_count": null,
      "outputs": [
        {
          "output_type": "display_data",
          "data": {
            "application/vnd.jupyter.widget-view+json": {
              "model_id": "4cbbe799f1cf4540a4527ece8ed0ae0e",
              "version_minor": 0,
              "version_major": 2
            },
            "text/plain": [
              "interactive(children=(FloatSlider(value=1.0, continuous_update=False, description='c', max=1.0, min=0.1), Outp…"
            ]
          },
          "metadata": {
            "tags": []
          }
        },
        {
          "output_type": "execute_result",
          "data": {
            "text/plain": [
              "<function __main__.plot_interact_animate>"
            ]
          },
          "metadata": {
            "tags": []
          },
          "execution_count": 3
        }
      ]
    },
    {
      "cell_type": "markdown",
      "metadata": {
        "id": "HZiTLSQBgWbo"
      },
      "source": [
        "## Plot Generated step by step"
      ]
    },
    {
      "cell_type": "code",
      "metadata": {
        "id": "FpnbW6pTbdFy",
        "colab": {
          "base_uri": "https://localhost:8080/",
          "height": 407,
          "referenced_widgets": [
            "96d5951b481e4eda9e2f63a1b714437d",
            "8825b9dd2fe04a4baaadfe20815c0812",
            "d467ecc7681a4d53b0622fb632fa7632",
            "ca6a97005f104380b5430508640a133b",
            "244e00967931419998ea1c8d4da54403",
            "4f10d8615e674da39b9c345dcc363c5b",
            "f8833fb96c864ed1a4a5feb81f828479",
            "74af6a991ba3443383720a8c34c4ac33"
          ]
        },
        "outputId": "f7271241-4b9e-4b31-dfe1-a25e3459d33d"
      },
      "source": [
        "\n",
        "k=5\n",
        "c_slider2.value=1\n",
        "Trials=0\n",
        "button = widgets.Button(description=\"Next Trial\")\n",
        "output = widgets.Output()\n",
        "widget1=widgets.HBox([button,c_slider2])\n",
        "def on_button_clicked(b):\n",
        "  global Trials\n",
        "  # Run experiments\n",
        "  Trials+=1\n",
        "  decision,win=ucb.run()\n",
        "  display.clear_output(wait=True)\n",
        "  display.display(widget1)\n",
        "  plot_portfolio(trialno=Trials,decision=decision,win=win)\n",
        "\n",
        "\n",
        "def plot_interact_step(*args):\n",
        "\n",
        "\n",
        "  global Trials\n",
        "  Trials=0\n",
        "  # Initialize bandits\n",
        "  ucb.reset(c=c_slider2.value)\n",
        "  decision=0\n",
        "  win=\"Lose\"\n",
        "  print(\"ucb.mu\",ucb.mu)\n",
        "  # button = widgets.Button(description=\"Next Trial\")\n",
        "  # output = widgets.Output()\n",
        "  button.on_click(on_button_clicked)\n",
        "\n",
        "\n",
        "  display.clear_output(wait=True)\n",
        "  display.display(widget1)\n",
        "  plot_portfolio(trialno=0)\n",
        "\n",
        "\n",
        "\n",
        "c_slider2.observe(plot_interact_step,'value')\n",
        "plot_interact_step()\n",
        "\n"
      ],
      "execution_count": null,
      "outputs": [
        {
          "output_type": "display_data",
          "data": {
            "application/vnd.jupyter.widget-view+json": {
              "model_id": "96d5951b481e4eda9e2f63a1b714437d",
              "version_minor": 0,
              "version_major": 2
            },
            "text/plain": [
              "HBox(children=(Button(description='Next Trial', style=ButtonStyle()), FloatSlider(value=1.0, continuous_update…"
            ]
          },
          "metadata": {
            "tags": []
          }
        },
        {
          "output_type": "display_data",
          "data": {
            "image/png": "[encoded data removed]",
            "text/plain": [
              "<Figure size 576x576 with 1 Axes>"
            ]
          },
          "metadata": {
            "tags": []
          }
        }
      ]
    },
    {
      "cell_type": "markdown",
      "metadata": {
        "id": "AcDb7YI0gdmU"
      },
      "source": [
        "## Plot generated for nth Iteration\n",
        "\n",
        "As the number of steps $n$ increases to infinity $Q_n(a)$ converges to $Q^*(a)$\n",
        "\n",
        "You can vary `iters` and `c` as required"
      ]
    },
    {
      "cell_type": "code",
      "metadata": {
        "id": "_l0mw5agenL9",
        "colab": {
          "base_uri": "https://localhost:8080/",
          "height": 407,
          "referenced_widgets": [
            "6f82669965674c03ae9161cd2ce18c70",
            "04cabc2476f44df9a98700661ade23a7",
            "cb7291fbdd37401d8d6b2833f52a3ecb",
            "96a09fe9a9594efe874de721ad932ca6",
            "1e0ab7203fc942f587c2a0bb51d11cb2",
            "c4786bedc7324228b38c5399a994e3ac",
            "5fc580e7e6a84291adbbc38a212ff108",
            "8865d9447a004bca8c4789f2448602c2"
          ]
        },
        "outputId": "b1c37f03-b604-43fb-c0eb-160efc733ad3"
      },
      "source": [
        "\n",
        "c_slider_n=widgets.FloatSlider(value=1,\n",
        "                                 min=0.1,\n",
        "                                 max=1,\n",
        "                                 step=.1,\n",
        "                                 description='c',\n",
        "                                 continuous_update=False)\n",
        "\n",
        "iters_slider=widgets.IntSlider(value=5000,\n",
        "                                 min=1000,\n",
        "                                 max=5000,\n",
        "                                 step=1000,\n",
        "                                 description='iters',\n",
        "                                 continuous_update=False)\n",
        "\n",
        "widget2=widgets.HBox([c_slider_n,iters_slider])\n",
        "k=5\n",
        "iters=5000\n",
        "\n",
        "def plot_interact_niters(*args):\n",
        "  # Initialize bandits\n",
        "  ucb.reset(c=c_slider_n.value)\n",
        "  decision=0\n",
        "  print(\"ucb.mu\",ucb.mu)\n",
        "  for i in range(iters_slider.value):\n",
        "      decision,win=ucb.run()\n",
        "  \n",
        "  display.clear_output(wait=True)\n",
        "  display.display(widget2)\n",
        "\n",
        "  plot_portfolio(trialno=(i+1),decision=decision,win=win)\n",
        "\n",
        "\n",
        "c_slider_n.observe(plot_interact_niters,'value')\n",
        "iters_slider.observe(plot_interact_niters,'value')\n",
        "plot_interact_niters()\n",
        "\n",
        "\n",
        "\n"
      ],
      "execution_count": null,
      "outputs": [
        {
          "output_type": "display_data",
          "data": {
            "application/vnd.jupyter.widget-view+json": {
              "model_id": "6f82669965674c03ae9161cd2ce18c70",
              "version_minor": 0,
              "version_major": 2
            },
            "text/plain": [
              "HBox(children=(FloatSlider(value=0.6, continuous_update=False, description='c', max=1.0, min=0.1), IntSlider(v…"
            ]
          },
          "metadata": {
            "tags": []
          }
        },
        {
          "output_type": "display_data",
          "data": {
            "image/png": "[encoded data removed]",
            "text/plain": [
              "<Figure size 576x576 with 1 Axes>"
            ]
          },
          "metadata": {
            "tags": []
          }
        }
      ]
    },
    {
      "cell_type": "markdown",
      "metadata": {
        "id": "6y4MFRBrXQzq"
      },
      "source": [
        "## Performance "
      ]
    },
    {
      "cell_type": "code",
      "metadata": {
        "id": "uaz6_smSX0hA",
        "colab": {
          "base_uri": "https://localhost:8080/",
          "height": 513
        },
        "outputId": "c32d210c-f9c8-452b-ef4d-d90e91ce23d1"
      },
      "source": [
        "k = 5 # number of arms\n",
        "iters = 5000\n",
        "\n",
        "ucb_rewards = np.zeros(iters)\n",
        "# Initialize bandits\n",
        "ucb.reset(c=1)\n",
        "for i in range(iters): \n",
        "    ucb.run()\n",
        "    ucb_rewards[i]= ucb.mean_reward \n",
        "\n",
        "\n",
        "\n",
        "plt.figure(figsize=(10,8))\n",
        "fig=plt.gcf()\n",
        "fig.set_facecolor('white')\n",
        "plt.plot(ucb_rewards, label=\"UCB\")\n",
        "plt.legend()\n",
        "plt.xlabel(\"Iterations\")\n",
        "plt.ylabel(\"Average Reward\")\n",
        "plt.title(\"Average UCB Rewards after \" \n",
        "           + str(iters) + \" Iterations\")\n",
        "plt.show()"
      ],
      "execution_count": null,
      "outputs": [
        {
          "output_type": "display_data",
          "data": {
            "image/png": "[encoded data removed]",
            "text/plain": [
              "<Figure size 720x576 with 1 Axes>"
            ]
          },
          "metadata": {
            "tags": []
          }
        }
      ]
    }
  ]
}